{
 "cells": [
  {
   "cell_type": "code",
   "execution_count": 1,
   "id": "2f86fe1b",
   "metadata": {},
   "outputs": [],
   "source": [
    "import pandas as pd\n"
   ]
  },
  {
   "cell_type": "code",
   "execution_count": 2,
   "id": "95759d8b",
   "metadata": {},
   "outputs": [
    {
     "data": {
      "text/html": [
       "<div>\n",
       "<style scoped>\n",
       "    .dataframe tbody tr th:only-of-type {\n",
       "        vertical-align: middle;\n",
       "    }\n",
       "\n",
       "    .dataframe tbody tr th {\n",
       "        vertical-align: top;\n",
       "    }\n",
       "\n",
       "    .dataframe thead th {\n",
       "        text-align: right;\n",
       "    }\n",
       "</style>\n",
       "<table border=\"1\" class=\"dataframe\">\n",
       "  <thead>\n",
       "    <tr style=\"text-align: right;\">\n",
       "      <th></th>\n",
       "      <th>Crop</th>\n",
       "      <th>State</th>\n",
       "      <th>Cost of Cultivation (`/Hectare) A2+FL</th>\n",
       "      <th>Cost of Cultivation (`/Hectare) C2</th>\n",
       "      <th>Cost of Production (`/Quintal) C2</th>\n",
       "      <th>Yield (Quintal/ Hectare)</th>\n",
       "    </tr>\n",
       "  </thead>\n",
       "  <tbody>\n",
       "    <tr>\n",
       "      <th>0</th>\n",
       "      <td>ARHAR</td>\n",
       "      <td>Uttar Pradesh</td>\n",
       "      <td>9794.05</td>\n",
       "      <td>23076.74</td>\n",
       "      <td>1941.55</td>\n",
       "      <td>9.83</td>\n",
       "    </tr>\n",
       "    <tr>\n",
       "      <th>1</th>\n",
       "      <td>ARHAR</td>\n",
       "      <td>Karnataka</td>\n",
       "      <td>10593.15</td>\n",
       "      <td>16528.68</td>\n",
       "      <td>2172.46</td>\n",
       "      <td>7.47</td>\n",
       "    </tr>\n",
       "    <tr>\n",
       "      <th>2</th>\n",
       "      <td>ARHAR</td>\n",
       "      <td>Gujarat</td>\n",
       "      <td>13468.82</td>\n",
       "      <td>19551.90</td>\n",
       "      <td>1898.30</td>\n",
       "      <td>9.59</td>\n",
       "    </tr>\n",
       "    <tr>\n",
       "      <th>3</th>\n",
       "      <td>ARHAR</td>\n",
       "      <td>Andhra Pradesh</td>\n",
       "      <td>17051.66</td>\n",
       "      <td>24171.65</td>\n",
       "      <td>3670.54</td>\n",
       "      <td>6.42</td>\n",
       "    </tr>\n",
       "    <tr>\n",
       "      <th>4</th>\n",
       "      <td>ARHAR</td>\n",
       "      <td>Maharashtra</td>\n",
       "      <td>17130.55</td>\n",
       "      <td>25270.26</td>\n",
       "      <td>2775.80</td>\n",
       "      <td>8.72</td>\n",
       "    </tr>\n",
       "  </tbody>\n",
       "</table>\n",
       "</div>"
      ],
      "text/plain": [
       "    Crop           State  Cost of Cultivation (`/Hectare) A2+FL  \\\n",
       "0  ARHAR   Uttar Pradesh                                9794.05   \n",
       "1  ARHAR       Karnataka                               10593.15   \n",
       "2  ARHAR         Gujarat                               13468.82   \n",
       "3  ARHAR  Andhra Pradesh                               17051.66   \n",
       "4  ARHAR     Maharashtra                               17130.55   \n",
       "\n",
       "   Cost of Cultivation (`/Hectare) C2  Cost of Production (`/Quintal) C2  \\\n",
       "0                            23076.74                            1941.55   \n",
       "1                            16528.68                            2172.46   \n",
       "2                            19551.90                            1898.30   \n",
       "3                            24171.65                            3670.54   \n",
       "4                            25270.26                            2775.80   \n",
       "\n",
       "   Yield (Quintal/ Hectare)  \n",
       "0                      9.83  \n",
       "1                      7.47  \n",
       "2                      9.59  \n",
       "3                      6.42  \n",
       "4                      8.72  "
      ]
     },
     "execution_count": 2,
     "metadata": {},
     "output_type": "execute_result"
    }
   ],
   "source": [
    "crop = pd.read_csv(\"CropData.csv\")\n",
    "crop.head()"
   ]
  },
  {
   "cell_type": "code",
   "execution_count": 3,
   "id": "43f25bb1",
   "metadata": {},
   "outputs": [
    {
     "name": "stdout",
     "output_type": "stream",
     "text": [
      "<class 'pandas.core.frame.DataFrame'>\n",
      "RangeIndex: 49 entries, 0 to 48\n",
      "Data columns (total 6 columns):\n",
      " #   Column                                 Non-Null Count  Dtype  \n",
      "---  ------                                 --------------  -----  \n",
      " 0   Crop                                   49 non-null     object \n",
      " 1   State                                  49 non-null     object \n",
      " 2   Cost of Cultivation (`/Hectare) A2+FL  49 non-null     float64\n",
      " 3   Cost of Cultivation (`/Hectare) C2     49 non-null     float64\n",
      " 4   Cost of Production (`/Quintal) C2      49 non-null     float64\n",
      " 5   Yield (Quintal/ Hectare)               49 non-null     float64\n",
      "dtypes: float64(4), object(2)\n",
      "memory usage: 2.4+ KB\n"
     ]
    }
   ],
   "source": [
    "crop.info()"
   ]
  },
  {
   "cell_type": "code",
   "execution_count": 4,
   "id": "1444f5fc",
   "metadata": {},
   "outputs": [
    {
     "data": {
      "text/html": [
       "<div>\n",
       "<style scoped>\n",
       "    .dataframe tbody tr th:only-of-type {\n",
       "        vertical-align: middle;\n",
       "    }\n",
       "\n",
       "    .dataframe tbody tr th {\n",
       "        vertical-align: top;\n",
       "    }\n",
       "\n",
       "    .dataframe thead th {\n",
       "        text-align: right;\n",
       "    }\n",
       "</style>\n",
       "<table border=\"1\" class=\"dataframe\">\n",
       "  <thead>\n",
       "    <tr style=\"text-align: right;\">\n",
       "      <th></th>\n",
       "      <th>Cost of Cultivation (`/Hectare) A2+FL</th>\n",
       "      <th>Cost of Cultivation (`/Hectare) C2</th>\n",
       "      <th>Cost of Production (`/Quintal) C2</th>\n",
       "      <th>Yield (Quintal/ Hectare)</th>\n",
       "    </tr>\n",
       "  </thead>\n",
       "  <tbody>\n",
       "    <tr>\n",
       "      <th>count</th>\n",
       "      <td>49.000000</td>\n",
       "      <td>49.000000</td>\n",
       "      <td>49.000000</td>\n",
       "      <td>49.000000</td>\n",
       "    </tr>\n",
       "    <tr>\n",
       "      <th>mean</th>\n",
       "      <td>20363.537347</td>\n",
       "      <td>31364.666735</td>\n",
       "      <td>1620.537755</td>\n",
       "      <td>98.086735</td>\n",
       "    </tr>\n",
       "    <tr>\n",
       "      <th>std</th>\n",
       "      <td>13561.435306</td>\n",
       "      <td>20095.783569</td>\n",
       "      <td>1104.990472</td>\n",
       "      <td>245.293123</td>\n",
       "    </tr>\n",
       "    <tr>\n",
       "      <th>min</th>\n",
       "      <td>5483.540000</td>\n",
       "      <td>7868.640000</td>\n",
       "      <td>85.790000</td>\n",
       "      <td>1.320000</td>\n",
       "    </tr>\n",
       "    <tr>\n",
       "      <th>25%</th>\n",
       "      <td>12774.410000</td>\n",
       "      <td>19259.840000</td>\n",
       "      <td>732.620000</td>\n",
       "      <td>9.590000</td>\n",
       "    </tr>\n",
       "    <tr>\n",
       "      <th>50%</th>\n",
       "      <td>17022.000000</td>\n",
       "      <td>25909.050000</td>\n",
       "      <td>1595.560000</td>\n",
       "      <td>13.700000</td>\n",
       "    </tr>\n",
       "    <tr>\n",
       "      <th>75%</th>\n",
       "      <td>24731.060000</td>\n",
       "      <td>35423.480000</td>\n",
       "      <td>2228.970000</td>\n",
       "      <td>36.610000</td>\n",
       "    </tr>\n",
       "    <tr>\n",
       "      <th>max</th>\n",
       "      <td>66335.060000</td>\n",
       "      <td>91442.630000</td>\n",
       "      <td>5777.480000</td>\n",
       "      <td>1015.450000</td>\n",
       "    </tr>\n",
       "  </tbody>\n",
       "</table>\n",
       "</div>"
      ],
      "text/plain": [
       "       Cost of Cultivation (`/Hectare) A2+FL  \\\n",
       "count                              49.000000   \n",
       "mean                            20363.537347   \n",
       "std                             13561.435306   \n",
       "min                              5483.540000   \n",
       "25%                             12774.410000   \n",
       "50%                             17022.000000   \n",
       "75%                             24731.060000   \n",
       "max                             66335.060000   \n",
       "\n",
       "       Cost of Cultivation (`/Hectare) C2  Cost of Production (`/Quintal) C2  \\\n",
       "count                           49.000000                          49.000000   \n",
       "mean                         31364.666735                        1620.537755   \n",
       "std                          20095.783569                        1104.990472   \n",
       "min                           7868.640000                          85.790000   \n",
       "25%                          19259.840000                         732.620000   \n",
       "50%                          25909.050000                        1595.560000   \n",
       "75%                          35423.480000                        2228.970000   \n",
       "max                          91442.630000                        5777.480000   \n",
       "\n",
       "       Yield (Quintal/ Hectare)  \n",
       "count                 49.000000  \n",
       "mean                  98.086735  \n",
       "std                  245.293123  \n",
       "min                    1.320000  \n",
       "25%                    9.590000  \n",
       "50%                   13.700000  \n",
       "75%                   36.610000  \n",
       "max                 1015.450000  "
      ]
     },
     "execution_count": 4,
     "metadata": {},
     "output_type": "execute_result"
    }
   ],
   "source": [
    "crop.describe()"
   ]
  },
  {
   "cell_type": "code",
   "execution_count": 5,
   "id": "6518646f",
   "metadata": {},
   "outputs": [],
   "source": [
    "%matplotlib inline"
   ]
  },
  {
   "cell_type": "code",
   "execution_count": 6,
   "id": "db740812",
   "metadata": {},
   "outputs": [],
   "source": [
    "import matplotlib as plt"
   ]
  },
  {
   "cell_type": "code",
   "execution_count": 7,
   "id": "0216765d",
   "metadata": {},
   "outputs": [
    {
     "data": {
      "text/plain": [
       "array([[<AxesSubplot: title={'center': 'Cost of Cultivation (`/Hectare) A2+FL'}>,\n",
       "        <AxesSubplot: title={'center': 'Cost of Cultivation (`/Hectare) C2'}>],\n",
       "       [<AxesSubplot: title={'center': 'Cost of Production (`/Quintal) C2'}>,\n",
       "        <AxesSubplot: title={'center': 'Yield (Quintal/ Hectare)'}>]],\n",
       "      dtype=object)"
      ]
     },
     "execution_count": 7,
     "metadata": {},
     "output_type": "execute_result"
    },
    {
     "data": {
      "image/png": "[encoded data removed]",
      "text/plain": [
       "<Figure size 2000x1500 with 4 Axes>"
      ]
     },
     "metadata": {},
     "output_type": "display_data"
    }
   ],
   "source": [
    "crop.hist(bins=50 ,figsize=(20,15))"
   ]
  },
  {
   "cell_type": "code",
   "execution_count": 8,
   "id": "27683574",
   "metadata": {},
   "outputs": [],
   "source": [
    "import numpy as np"
   ]
  },
  {
   "cell_type": "markdown",
   "id": "0cb16c66",
   "metadata": {},
   "source": [
    "### Label Encoding"
   ]
  },
  {
   "cell_type": "code",
   "execution_count": 9,
   "id": "db7cc008",
   "metadata": {},
   "outputs": [],
   "source": [
    "from sklearn.preprocessing import LabelEncoder\n",
    "crop2 = crop[[\"Crop\",\"State\"]]\n",
    "le = LabelEncoder()"
   ]
  },
  {
   "cell_type": "code",
   "execution_count": 10,
   "id": "52d93717",
   "metadata": {},
   "outputs": [],
   "source": [
    "Crop_encode = le.fit_transform(crop2[\"Crop\"])"
   ]
  },
  {
   "cell_type": "code",
   "execution_count": 11,
   "id": "7e4eb105",
   "metadata": {},
   "outputs": [],
   "source": [
    "State_encode = le.fit_transform(crop2[\"State\"])"
   ]
  },
  {
   "cell_type": "code",
   "execution_count": 12,
   "id": "0276cdff",
   "metadata": {},
   "outputs": [],
   "source": [
    "crop[\"Crop\"] = Crop_encode"
   ]
  },
  {
   "cell_type": "code",
   "execution_count": 13,
   "id": "5c5c08ef",
   "metadata": {},
   "outputs": [],
   "source": [
    "crop[\"State\"] = State_encode"
   ]
  },
  {
   "cell_type": "code",
   "execution_count": 14,
   "id": "ed6cae5f",
   "metadata": {},
   "outputs": [
    {
     "data": {
      "text/html": [
       "<div>\n",
       "<style scoped>\n",
       "    .dataframe tbody tr th:only-of-type {\n",
       "        vertical-align: middle;\n",
       "    }\n",
       "\n",
       "    .dataframe tbody tr th {\n",
       "        vertical-align: top;\n",
       "    }\n",
       "\n",
       "    .dataframe thead th {\n",
       "        text-align: right;\n",
       "    }\n",
       "</style>\n",
       "<table border=\"1\" class=\"dataframe\">\n",
       "  <thead>\n",
       "    <tr style=\"text-align: right;\">\n",
       "      <th></th>\n",
       "      <th>Crop</th>\n",
       "      <th>State</th>\n",
       "      <th>Cost of Cultivation (`/Hectare) A2+FL</th>\n",
       "      <th>Cost of Cultivation (`/Hectare) C2</th>\n",
       "      <th>Cost of Production (`/Quintal) C2</th>\n",
       "      <th>Yield (Quintal/ Hectare)</th>\n",
       "    </tr>\n",
       "  </thead>\n",
       "  <tbody>\n",
       "    <tr>\n",
       "      <th>0</th>\n",
       "      <td>0</td>\n",
       "      <td>11</td>\n",
       "      <td>9794.05</td>\n",
       "      <td>23076.74</td>\n",
       "      <td>1941.55</td>\n",
       "      <td>9.83</td>\n",
       "    </tr>\n",
       "    <tr>\n",
       "      <th>1</th>\n",
       "      <td>0</td>\n",
       "      <td>4</td>\n",
       "      <td>10593.15</td>\n",
       "      <td>16528.68</td>\n",
       "      <td>2172.46</td>\n",
       "      <td>7.47</td>\n",
       "    </tr>\n",
       "    <tr>\n",
       "      <th>2</th>\n",
       "      <td>0</td>\n",
       "      <td>2</td>\n",
       "      <td>13468.82</td>\n",
       "      <td>19551.90</td>\n",
       "      <td>1898.30</td>\n",
       "      <td>9.59</td>\n",
       "    </tr>\n",
       "    <tr>\n",
       "      <th>3</th>\n",
       "      <td>0</td>\n",
       "      <td>0</td>\n",
       "      <td>17051.66</td>\n",
       "      <td>24171.65</td>\n",
       "      <td>3670.54</td>\n",
       "      <td>6.42</td>\n",
       "    </tr>\n",
       "    <tr>\n",
       "      <th>4</th>\n",
       "      <td>0</td>\n",
       "      <td>6</td>\n",
       "      <td>17130.55</td>\n",
       "      <td>25270.26</td>\n",
       "      <td>2775.80</td>\n",
       "      <td>8.72</td>\n",
       "    </tr>\n",
       "  </tbody>\n",
       "</table>\n",
       "</div>"
      ],
      "text/plain": [
       "   Crop  State  Cost of Cultivation (`/Hectare) A2+FL  \\\n",
       "0     0     11                                9794.05   \n",
       "1     0      4                               10593.15   \n",
       "2     0      2                               13468.82   \n",
       "3     0      0                               17051.66   \n",
       "4     0      6                               17130.55   \n",
       "\n",
       "   Cost of Cultivation (`/Hectare) C2  Cost of Production (`/Quintal) C2  \\\n",
       "0                            23076.74                            1941.55   \n",
       "1                            16528.68                            2172.46   \n",
       "2                            19551.90                            1898.30   \n",
       "3                            24171.65                            3670.54   \n",
       "4                            25270.26                            2775.80   \n",
       "\n",
       "   Yield (Quintal/ Hectare)  \n",
       "0                      9.83  \n",
       "1                      7.47  \n",
       "2                      9.59  \n",
       "3                      6.42  \n",
       "4                      8.72  "
      ]
     },
     "execution_count": 14,
     "metadata": {},
     "output_type": "execute_result"
    }
   ],
   "source": [
    "crop.head()"
   ]
  },
  {
   "cell_type": "code",
   "execution_count": 15,
   "id": "6a473235",
   "metadata": {},
   "outputs": [
    {
     "data": {
      "text/plain": [
       "0     8\n",
       "11    7\n",
       "6     6\n",
       "4     5\n",
       "9     5\n",
       "2     4\n",
       "8     3\n",
       "5     3\n",
       "3     2\n",
       "10    2\n",
       "7     2\n",
       "1     1\n",
       "12    1\n",
       "Name: State, dtype: int64"
      ]
     },
     "execution_count": 15,
     "metadata": {},
     "output_type": "execute_result"
    }
   ],
   "source": [
    "crop[\"State\"].value_counts()"
   ]
  },
  {
   "cell_type": "markdown",
   "id": "c1f3eb99",
   "metadata": {},
   "source": [
    "# Test spliting\n"
   ]
  },
  {
   "cell_type": "code",
   "execution_count": 16,
   "id": "6b6fa761",
   "metadata": {},
   "outputs": [
    {
     "name": "stdout",
     "output_type": "stream",
     "text": [
      "Rows in test set:10\n",
      "Rows in train set: 39\n",
      "\n"
     ]
    }
   ],
   "source": [
    "from sklearn.model_selection import train_test_split\n",
    "train_set ,test_set = train_test_split(crop , test_size = 0.2 , random_state = 42)\n",
    "print(f\"Rows in test set:{len(test_set)}\\nRows in train set: {len(train_set)}\\n\")"
   ]
  },
  {
   "cell_type": "code",
   "execution_count": 17,
   "id": "a9fd17c8",
   "metadata": {},
   "outputs": [],
   "source": [
    "from sklearn.model_selection import ShuffleSplit\n",
    "split = ShuffleSplit(n_splits=1 ,test_size = 0.2, random_state = 4)\n",
    "for train_index ,test_index in split.split(crop, crop['Cost of Cultivation (`/Hectare) C2']):\n",
    "    strat_train_set = crop.loc[train_index]\n",
    "    strat_test_set = crop.loc[test_index]"
   ]
  },
  {
   "cell_type": "markdown",
   "id": "000eba55",
   "metadata": {},
   "source": [
    "# Looking for correlations"
   ]
  },
  {
   "cell_type": "code",
   "execution_count": 18,
   "id": "b70daba7",
   "metadata": {},
   "outputs": [],
   "source": [
    "corr_matrix = crop.corr()"
   ]
  },
  {
   "cell_type": "code",
   "execution_count": 19,
   "id": "c3b01737",
   "metadata": {
    "scrolled": true
   },
   "outputs": [
    {
     "data": {
      "text/plain": [
       "Cost of Cultivation (`/Hectare) C2       1.000000\n",
       "Cost of Cultivation (`/Hectare) A2+FL    0.981225\n",
       "Yield (Quintal/ Hectare)                 0.866424\n",
       "Crop                                     0.319807\n",
       "State                                   -0.077246\n",
       "Cost of Production (`/Quintal) C2       -0.497092\n",
       "Name: Cost of Cultivation (`/Hectare) C2, dtype: float64"
      ]
     },
     "execution_count": 19,
     "metadata": {},
     "output_type": "execute_result"
    }
   ],
   "source": [
    "corr_matrix['Cost of Cultivation (`/Hectare) C2'].sort_values(ascending=False)# strong positive correlation"
   ]
  },
  {
   "cell_type": "code",
   "execution_count": 20,
   "id": "f6795c3e",
   "metadata": {},
   "outputs": [
    {
     "data": {
      "text/plain": [
       "array([[<AxesSubplot: xlabel='Crop', ylabel='Crop'>,\n",
       "        <AxesSubplot: xlabel='State', ylabel='Crop'>,\n",
       "        <AxesSubplot: xlabel='Cost of Cultivation (`/Hectare) A2+FL', ylabel='Crop'>,\n",
       "        <AxesSubplot: xlabel='Yield (Quintal/ Hectare)', ylabel='Crop'>,\n",
       "        <AxesSubplot: xlabel='Cost of Cultivation (`/Hectare) C2', ylabel='Crop'>,\n",
       "        <AxesSubplot: xlabel='Cost of Production (`/Quintal) C2', ylabel='Crop'>],\n",
       "       [<AxesSubplot: xlabel='Crop', ylabel='State'>,\n",
       "        <AxesSubplot: xlabel='State', ylabel='State'>,\n",
       "        <AxesSubplot: xlabel='Cost of Cultivation (`/Hectare) A2+FL', ylabel='State'>,\n",
       "        <AxesSubplot: xlabel='Yield (Quintal/ Hectare)', ylabel='State'>,\n",
       "        <AxesSubplot: xlabel='Cost of Cultivation (`/Hectare) C2', ylabel='State'>,\n",
       "        <AxesSubplot: xlabel='Cost of Production (`/Quintal) C2', ylabel='State'>],\n",
       "       [<AxesSubplot: xlabel='Crop', ylabel='Cost of Cultivation (`/Hectare) A2+FL'>,\n",
       "        <AxesSubplot: xlabel='State', ylabel='Cost of Cultivation (`/Hectare) A2+FL'>,\n",
       "        <AxesSubplot: xlabel='Cost of Cultivation (`/Hectare) A2+FL', ylabel='Cost of Cultivation (`/Hectare) A2+FL'>,\n",
       "        <AxesSubplot: xlabel='Yield (Quintal/ Hectare)', ylabel='Cost of Cultivation (`/Hectare) A2+FL'>,\n",
       "        <AxesSubplot: xlabel='Cost of Cultivation (`/Hectare) C2', ylabel='Cost of Cultivation (`/Hectare) A2+FL'>,\n",
       "        <AxesSubplot: xlabel='Cost of Production (`/Quintal) C2', ylabel='Cost of Cultivation (`/Hectare) A2+FL'>],\n",
       "       [<AxesSubplot: xlabel='Crop', ylabel='Yield (Quintal/ Hectare)'>,\n",
       "        <AxesSubplot: xlabel='State', ylabel='Yield (Quintal/ Hectare)'>,\n",
       "        <AxesSubplot: xlabel='Cost of Cultivation (`/Hectare) A2+FL', ylabel='Yield (Quintal/ Hectare)'>,\n",
       "        <AxesSubplot: xlabel='Yield (Quintal/ Hectare)', ylabel='Yield (Quintal/ Hectare)'>,\n",
       "        <AxesSubplot: xlabel='Cost of Cultivation (`/Hectare) C2', ylabel='Yield (Quintal/ Hectare)'>,\n",
       "        <AxesSubplot: xlabel='Cost of Production (`/Quintal) C2', ylabel='Yield (Quintal/ Hectare)'>],\n",
       "       [<AxesSubplot: xlabel='Crop', ylabel='Cost of Cultivation (`/Hectare) C2'>,\n",
       "        <AxesSubplot: xlabel='State', ylabel='Cost of Cultivation (`/Hectare) C2'>,\n",
       "        <AxesSubplot: xlabel='Cost of Cultivation (`/Hectare) A2+FL', ylabel='Cost of Cultivation (`/Hectare) C2'>,\n",
       "        <AxesSubplot: xlabel='Yield (Quintal/ Hectare)', ylabel='Cost of Cultivation (`/Hectare) C2'>,\n",
       "        <AxesSubplot: xlabel='Cost of Cultivation (`/Hectare) C2', ylabel='Cost of Cultivation (`/Hectare) C2'>,\n",
       "        <AxesSubplot: xlabel='Cost of Production (`/Quintal) C2', ylabel='Cost of Cultivation (`/Hectare) C2'>],\n",
       "       [<AxesSubplot: xlabel='Crop', ylabel='Cost of Production (`/Quintal) C2'>,\n",
       "        <AxesSubplot: xlabel='State', ylabel='Cost of Production (`/Quintal) C2'>,\n",
       "        <AxesSubplot: xlabel='Cost of Cultivation (`/Hectare) A2+FL', ylabel='Cost of Production (`/Quintal) C2'>,\n",
       "        <AxesSubplot: xlabel='Yield (Quintal/ Hectare)', ylabel='Cost of Production (`/Quintal) C2'>,\n",
       "        <AxesSubplot: xlabel='Cost of Cultivation (`/Hectare) C2', ylabel='Cost of Production (`/Quintal) C2'>,\n",
       "        <AxesSubplot: xlabel='Cost of Production (`/Quintal) C2', ylabel='Cost of Production (`/Quintal) C2'>]],\n",
       "      dtype=object)"
      ]
     },
     "execution_count": 20,
     "metadata": {},
     "output_type": "execute_result"
    },
    {
     "data": {
      "image/png": "[encoded data removed]",
      "text/plain": [
       "<Figure size 1200x800 with 36 Axes>"
      ]
     },
     "metadata": {},
     "output_type": "display_data"
    }
   ],
   "source": [
    "from pandas.plotting import scatter_matrix\n",
    "attributes = [\"Crop\",\"State\",\"Cost of Cultivation (`/Hectare) A2+FL\" ,\"Yield (Quintal/ Hectare)\",\"Cost of Cultivation (`/Hectare) C2\",\"Cost of Production (`/Quintal) C2\"]\n",
    "scatter_matrix(crop[attributes], figsize = (12,8))"
   ]
  },
  {
   "cell_type": "code",
   "execution_count": 21,
   "id": "fcf3e2a3",
   "metadata": {},
   "outputs": [
    {
     "name": "stderr",
     "output_type": "stream",
     "text": [
      "C:\\Python310\\lib\\site-packages\\pandas\\plotting\\_matplotlib\\core.py:1114: UserWarning: No data for colormapping provided via 'c'. Parameters 'cmap' will be ignored\n",
      "  scatter = ax.scatter(\n"
     ]
    },
    {
     "data": {
      "text/plain": [
       "<AxesSubplot: xlabel='Cost of Production (`/Quintal) C2', ylabel='Cost of Cultivation (`/Hectare) A2+FL'>"
      ]
     },
     "execution_count": 21,
     "metadata": {},
     "output_type": "execute_result"
    },
    {
     "data": {
      "image/png": "[encoded data removed]",
      "text/plain": [
       "<Figure size 640x480 with 1 Axes>"
      ]
     },
     "metadata": {},
     "output_type": "display_data"
    }
   ],
   "source": [
    "crop.plot(kind = \"scatter\" , x = \"Cost of Production (`/Quintal) C2\", y= \"Cost of Cultivation (`/Hectare) A2+FL\" ,alpha = 0.8)"
   ]
  },
  {
   "cell_type": "code",
   "execution_count": 22,
   "id": "a3889e91",
   "metadata": {},
   "outputs": [],
   "source": [
    "crop = strat_train_set.drop('Cost of Production (`/Quintal) C2' , axis =1)\n",
    "crop_labels = strat_train_set['Cost of Production (`/Quintal) C2'].copy()"
   ]
  },
  {
   "cell_type": "markdown",
   "id": "a216fb3f",
   "metadata": {},
   "source": [
    "# Trying out Attribute combinations"
   ]
  },
  {
   "cell_type": "code",
   "execution_count": 23,
   "id": "0c5e2f76",
   "metadata": {},
   "outputs": [
    {
     "data": {
      "text/html": [
       "<style>#sk-container-id-1 {color: black;background-color: white;}#sk-container-id-1 pre{padding: 0;}#sk-container-id-1 div.sk-toggleable {background-color: white;}#sk-container-id-1 label.sk-toggleable__label {cursor: pointer;display: block;width: 100%;margin-bottom: 0;padding: 0.3em;box-sizing: border-box;text-align: center;}#sk-container-id-1 label.sk-toggleable__label-arrow:before {content: \"▸\";float: left;margin-right: 0.25em;color: #696969;}#sk-container-id-1 label.sk-toggleable__label-arrow:hover:before {color: black;}#sk-container-id-1 div.sk-estimator:hover label.sk-toggleable__label-arrow:before {color: black;}#sk-container-id-1 div.sk-toggleable__content {max-height: 0;max-width: 0;overflow: hidden;text-align: left;background-color: #f0f8ff;}#sk-container-id-1 div.sk-toggleable__content pre {margin: 0.2em;color: black;border-radius: 0.25em;background-color: #f0f8ff;}#sk-container-id-1 input.sk-toggleable__control:checked~div.sk-toggleable__content {max-height: 200px;max-width: 100%;overflow: auto;}#sk-container-id-1 input.sk-toggleable__control:checked~label.sk-toggleable__label-arrow:before {content: \"▾\";}#sk-container-id-1 div.sk-estimator input.sk-toggleable__control:checked~label.sk-toggleable__label {background-color: #d4ebff;}#sk-container-id-1 div.sk-label input.sk-toggleable__control:checked~label.sk-toggleable__label {background-color: #d4ebff;}#sk-container-id-1 input.sk-hidden--visually {border: 0;clip: rect(1px 1px 1px 1px);clip: rect(1px, 1px, 1px, 1px);height: 1px;margin: -1px;overflow: hidden;padding: 0;position: absolute;width: 1px;}#sk-container-id-1 div.sk-estimator {font-family: monospace;background-color: #f0f8ff;border: 1px dotted black;border-radius: 0.25em;box-sizing: border-box;margin-bottom: 0.5em;}#sk-container-id-1 div.sk-estimator:hover {background-color: #d4ebff;}#sk-container-id-1 div.sk-parallel-item::after {content: \"\";width: 100%;border-bottom: 1px solid gray;flex-grow: 1;}#sk-container-id-1 div.sk-label:hover label.sk-toggleable__label {background-color: #d4ebff;}#sk-container-id-1 div.sk-serial::before {content: \"\";position: absolute;border-left: 1px solid gray;box-sizing: border-box;top: 0;bottom: 0;left: 50%;z-index: 0;}#sk-container-id-1 div.sk-serial {display: flex;flex-direction: column;align-items: center;background-color: white;padding-right: 0.2em;padding-left: 0.2em;position: relative;}#sk-container-id-1 div.sk-item {position: relative;z-index: 1;}#sk-container-id-1 div.sk-parallel {display: flex;align-items: stretch;justify-content: center;background-color: white;position: relative;}#sk-container-id-1 div.sk-item::before, #sk-container-id-1 div.sk-parallel-item::before {content: \"\";position: absolute;border-left: 1px solid gray;box-sizing: border-box;top: 0;bottom: 0;left: 50%;z-index: -1;}#sk-container-id-1 div.sk-parallel-item {display: flex;flex-direction: column;z-index: 1;position: relative;background-color: white;}#sk-container-id-1 div.sk-parallel-item:first-child::after {align-self: flex-end;width: 50%;}#sk-container-id-1 div.sk-parallel-item:last-child::after {align-self: flex-start;width: 50%;}#sk-container-id-1 div.sk-parallel-item:only-child::after {width: 0;}#sk-container-id-1 div.sk-dashed-wrapped {border: 1px dashed gray;margin: 0 0.4em 0.5em 0.4em;box-sizing: border-box;padding-bottom: 0.4em;background-color: white;}#sk-container-id-1 div.sk-label label {font-family: monospace;font-weight: bold;display: inline-block;line-height: 1.2em;}#sk-container-id-1 div.sk-label-container {text-align: center;}#sk-container-id-1 div.sk-container {/* jupyter's `normalize.less` sets `[hidden] { display: none; }` but bootstrap.min.css set `[hidden] { display: none !important; }` so we also need the `!important` here to be able to override the default hidden behavior on the sphinx rendered scikit-learn.org. See: https://github.com/scikit-learn/scikit-learn/issues/21755 */display: inline-block !important;position: relative;}#sk-container-id-1 div.sk-text-repr-fallback {display: none;}</style><div id=\"sk-container-id-1\" class=\"sk-top-container\"><div class=\"sk-text-repr-fallback\"><pre>SimpleImputer(strategy=&#x27;median&#x27;)</pre><b>In a Jupyter environment, please rerun this cell to show the HTML representation or trust the notebook. <br />On GitHub, the HTML representation is unable to render, please try loading this page with nbviewer.org.</b></div><div class=\"sk-container\" hidden><div class=\"sk-item\"><div class=\"sk-estimator sk-toggleable\"><input class=\"sk-toggleable__control sk-hidden--visually\" id=\"sk-estimator-id-1\" type=\"checkbox\" checked><label for=\"sk-estimator-id-1\" class=\"sk-toggleable__label sk-toggleable__label-arrow\">SimpleImputer</label><div class=\"sk-toggleable__content\"><pre>SimpleImputer(strategy=&#x27;median&#x27;)</pre></div></div></div></div></div>"
      ],
      "text/plain": [
       "SimpleImputer(strategy='median')"
      ]
     },
     "execution_count": 23,
     "metadata": {},
     "output_type": "execute_result"
    }
   ],
   "source": [
    "from sklearn.impute import SimpleImputer\n",
    "imputer = SimpleImputer(strategy = \"median\")\n",
    "imputer.fit(crop)\n"
   ]
  },
  {
   "cell_type": "code",
   "execution_count": 24,
   "id": "f4e7aa6c",
   "metadata": {},
   "outputs": [
    {
     "data": {
      "text/plain": [
       "array([5.000000e+00, 6.000000e+00, 1.563543e+04, 2.676209e+04,\n",
       "       1.370000e+01])"
      ]
     },
     "execution_count": 24,
     "metadata": {},
     "output_type": "execute_result"
    }
   ],
   "source": [
    "imputer.statistics_"
   ]
  },
  {
   "cell_type": "code",
   "execution_count": 25,
   "id": "2b46b8ad",
   "metadata": {},
   "outputs": [],
   "source": [
    "x = imputer.transform(crop)"
   ]
  },
  {
   "cell_type": "code",
   "execution_count": 26,
   "id": "18c6d647",
   "metadata": {},
   "outputs": [],
   "source": [
    "crop_tr = pd.DataFrame(x , columns = crop.columns)"
   ]
  },
  {
   "cell_type": "code",
   "execution_count": 27,
   "id": "29b0fc76",
   "metadata": {},
   "outputs": [
    {
     "data": {
      "text/html": [
       "<div>\n",
       "<style scoped>\n",
       "    .dataframe tbody tr th:only-of-type {\n",
       "        vertical-align: middle;\n",
       "    }\n",
       "\n",
       "    .dataframe tbody tr th {\n",
       "        vertical-align: top;\n",
       "    }\n",
       "\n",
       "    .dataframe thead th {\n",
       "        text-align: right;\n",
       "    }\n",
       "</style>\n",
       "<table border=\"1\" class=\"dataframe\">\n",
       "  <thead>\n",
       "    <tr style=\"text-align: right;\">\n",
       "      <th></th>\n",
       "      <th>Crop</th>\n",
       "      <th>State</th>\n",
       "      <th>Cost of Cultivation (`/Hectare) A2+FL</th>\n",
       "      <th>Cost of Cultivation (`/Hectare) C2</th>\n",
       "      <th>Yield (Quintal/ Hectare)</th>\n",
       "    </tr>\n",
       "  </thead>\n",
       "  <tbody>\n",
       "    <tr>\n",
       "      <th>count</th>\n",
       "      <td>39.000000</td>\n",
       "      <td>39.000000</td>\n",
       "      <td>39.000000</td>\n",
       "      <td>39.000000</td>\n",
       "      <td>39.000000</td>\n",
       "    </tr>\n",
       "    <tr>\n",
       "      <th>mean</th>\n",
       "      <td>4.564103</td>\n",
       "      <td>5.538462</td>\n",
       "      <td>21089.777692</td>\n",
       "      <td>32277.904872</td>\n",
       "      <td>118.631538</td>\n",
       "    </tr>\n",
       "    <tr>\n",
       "      <th>std</th>\n",
       "      <td>2.760577</td>\n",
       "      <td>3.979197</td>\n",
       "      <td>14667.698032</td>\n",
       "      <td>21647.656938</td>\n",
       "      <td>271.759740</td>\n",
       "    </tr>\n",
       "    <tr>\n",
       "      <th>min</th>\n",
       "      <td>0.000000</td>\n",
       "      <td>0.000000</td>\n",
       "      <td>6204.230000</td>\n",
       "      <td>7868.640000</td>\n",
       "      <td>1.320000</td>\n",
       "    </tr>\n",
       "    <tr>\n",
       "      <th>25%</th>\n",
       "      <td>2.500000</td>\n",
       "      <td>2.000000</td>\n",
       "      <td>12880.180000</td>\n",
       "      <td>19171.695000</td>\n",
       "      <td>9.460000</td>\n",
       "    </tr>\n",
       "    <tr>\n",
       "      <th>50%</th>\n",
       "      <td>5.000000</td>\n",
       "      <td>6.000000</td>\n",
       "      <td>15635.430000</td>\n",
       "      <td>26762.090000</td>\n",
       "      <td>13.700000</td>\n",
       "    </tr>\n",
       "    <tr>\n",
       "      <th>75%</th>\n",
       "      <td>7.000000</td>\n",
       "      <td>9.000000</td>\n",
       "      <td>24942.905000</td>\n",
       "      <td>36612.665000</td>\n",
       "      <td>39.435000</td>\n",
       "    </tr>\n",
       "    <tr>\n",
       "      <th>max</th>\n",
       "      <td>9.000000</td>\n",
       "      <td>12.000000</td>\n",
       "      <td>66335.060000</td>\n",
       "      <td>91442.630000</td>\n",
       "      <td>1015.450000</td>\n",
       "    </tr>\n",
       "  </tbody>\n",
       "</table>\n",
       "</div>"
      ],
      "text/plain": [
       "            Crop      State  Cost of Cultivation (`/Hectare) A2+FL  \\\n",
       "count  39.000000  39.000000                              39.000000   \n",
       "mean    4.564103   5.538462                           21089.777692   \n",
       "std     2.760577   3.979197                           14667.698032   \n",
       "min     0.000000   0.000000                            6204.230000   \n",
       "25%     2.500000   2.000000                           12880.180000   \n",
       "50%     5.000000   6.000000                           15635.430000   \n",
       "75%     7.000000   9.000000                           24942.905000   \n",
       "max     9.000000  12.000000                           66335.060000   \n",
       "\n",
       "       Cost of Cultivation (`/Hectare) C2  Yield (Quintal/ Hectare)  \n",
       "count                           39.000000                 39.000000  \n",
       "mean                         32277.904872                118.631538  \n",
       "std                          21647.656938                271.759740  \n",
       "min                           7868.640000                  1.320000  \n",
       "25%                          19171.695000                  9.460000  \n",
       "50%                          26762.090000                 13.700000  \n",
       "75%                          36612.665000                 39.435000  \n",
       "max                          91442.630000               1015.450000  "
      ]
     },
     "execution_count": 27,
     "metadata": {},
     "output_type": "execute_result"
    }
   ],
   "source": [
    "crop_tr.describe()"
   ]
  },
  {
   "cell_type": "markdown",
   "id": "bca184d5",
   "metadata": {},
   "source": [
    "# Creating a pipeline"
   ]
  },
  {
   "cell_type": "code",
   "execution_count": 28,
   "id": "fa5d66fe",
   "metadata": {},
   "outputs": [],
   "source": [
    "from sklearn.pipeline import Pipeline\n",
    "from sklearn.preprocessing import StandardScaler\n",
    "my_pipeline = Pipeline([\n",
    "    ('imputer' ,SimpleImputer(strategy=\"median\")),\n",
    "    ('std_scaler',StandardScaler())\n",
    "])"
   ]
  },
  {
   "cell_type": "code",
   "execution_count": 29,
   "id": "6735291a",
   "metadata": {},
   "outputs": [],
   "source": [
    "crop_num_tr = my_pipeline.fit_transform(crop)"
   ]
  },
  {
   "cell_type": "code",
   "execution_count": 30,
   "id": "cb6bc94d",
   "metadata": {},
   "outputs": [
    {
     "data": {
      "text/plain": [
       "array([[-0.20701356,  0.88128065, -0.46056913, -0.58346255, -0.35440995],\n",
       "       [ 0.15996502, -1.41004904, -0.99496963, -0.89237639, -0.42024332],\n",
       "       [ 0.5269436 ,  0.62668846,  0.28076058,  0.6090013 , -0.19094487],\n",
       "       [-0.57399214, -0.39168029, -0.51405283, -0.70027519, -0.42467943],\n",
       "       [-0.57399214, -1.41004904,  0.00961653, -0.08626297, -0.39761543],\n",
       "       [ 0.15996502, -0.39168029, -1.01179052, -1.14231087, -0.43731676],\n",
       "       [ 0.89392218,  1.39046503, -0.57432802, -0.4547669 , -0.39165091],\n",
       "       [-0.20701356, -1.15545685, -0.52325134, -0.58124385, -0.28212745],\n",
       "       [-0.20701356, -1.41004904,  0.31752838,  0.25851096, -0.28313396],\n",
       "       [ 1.62787934,  0.88128065, -0.13611267, -0.1123881 , -0.30359971],\n",
       "       [-0.94097072,  0.11750409, -0.55971732, -0.6363895 , -0.4122285 ],\n",
       "       [-0.94097072,  0.88128065, -0.86591489, -0.92038374, -0.41677645],\n",
       "       [-0.57399214,  0.11750409,  0.34457344,  0.01897927, -0.40745689],\n",
       "       [ 0.15996502,  0.11750409, -0.71202596, -0.79119249, -0.41726106],\n",
       "       [ 1.26090076, -0.39168029,  2.38739031,  2.54993671,  3.23417971],\n",
       "       [ 1.26090076,  1.13587284,  3.12501314,  2.65567735,  3.34318128],\n",
       "       [ 0.15996502,  0.88128065, -1.02811895, -1.08161588, -0.4271398 ],\n",
       "       [ 0.5269436 ,  1.64505722,  0.25149705,  0.03595112, -0.29670324],\n",
       "       [-0.57399214,  1.13587284,  0.09794448, -0.08817936, -0.39757815],\n",
       "       [ 1.26090076,  0.11750409,  2.52678112,  2.50483162,  2.33130077],\n",
       "       [ 0.5269436 , -1.41004904,  0.59226467,  0.6632386 , -0.23347935],\n",
       "       [-0.94097072, -1.41004904, -0.46053322, -0.25813048, -0.3800201 ],\n",
       "       [-1.67492788, -0.90086467, -0.52636632, -0.59555475, -0.40648765],\n",
       "       [ 1.26090076, -1.41004904,  2.45409092,  2.76880557,  2.3831548 ],\n",
       "       [ 0.89392218, -0.1370881 , -0.8566777 , -0.68194292, -0.39399944],\n",
       "       [-0.20701356, -0.39168029, -0.50398613, -0.54315756, -0.32630216],\n",
       "       [-1.67492788,  1.39046503, -0.78017631, -0.43059841, -0.40559297],\n",
       "       [-1.67492788, -1.41004904, -0.27890578, -0.37935854, -0.41830485],\n",
       "       [ 0.89392218, -0.90086467, -0.50759219, -0.61747271, -0.39895745],\n",
       "       [ 0.89392218,  0.88128065, -0.67024381, -0.60922265, -0.39176275],\n",
       "       [ 0.5269436 ,  1.39046503, -0.28095435, -0.19343611, -0.30576185],\n",
       "       [ 0.89392218, -0.64627248, -0.44027618, -0.22324473, -0.36790467],\n",
       "       [-1.3079493 , -0.64627248,  0.60981699,  0.54942432, -0.36805379],\n",
       "       [-1.3079493 , -0.90086467,  0.5888976 ,  0.4582735 , -0.37122244],\n",
       "       [-0.20701356,  1.39046503, -0.37672233, -0.52567514, -0.3911663 ],\n",
       "       [ 1.26090076,  1.39046503,  0.23818483,  0.60658043,  1.23114538],\n",
       "       [-1.67492788, -0.39168029, -0.72498386, -0.73703615, -0.41439064],\n",
       "       [-1.3079493 ,  0.11750409,  0.18107367,  0.03925976, -0.3949314 ],\n",
       "       [ 1.62787934,  0.62668846, -0.21716428,  0.14720741, -0.29375826]])"
      ]
     },
     "execution_count": 30,
     "metadata": {},
     "output_type": "execute_result"
    }
   ],
   "source": [
    "crop_num_tr"
   ]
  },
  {
   "cell_type": "markdown",
   "id": "273ac271",
   "metadata": {},
   "source": [
    "# Selecting a desired model"
   ]
  },
  {
   "cell_type": "code",
   "execution_count": 31,
   "id": "77fb1607",
   "metadata": {},
   "outputs": [
    {
     "data": {
      "text/plain": [
       "(39, 5)"
      ]
     },
     "execution_count": 31,
     "metadata": {},
     "output_type": "execute_result"
    }
   ],
   "source": [
    "crop_num_tr.shape\n"
   ]
  },
  {
   "cell_type": "markdown",
   "id": "144d2b7d",
   "metadata": {},
   "source": [
    "#### LinearRegression Model"
   ]
  },
  {
   "cell_type": "code",
   "execution_count": 32,
   "id": "144a6e61",
   "metadata": {},
   "outputs": [
    {
     "data": {
      "text/html": [
       "<style>#sk-container-id-2 {color: black;background-color: white;}#sk-container-id-2 pre{padding: 0;}#sk-container-id-2 div.sk-toggleable {background-color: white;}#sk-container-id-2 label.sk-toggleable__label {cursor: pointer;display: block;width: 100%;margin-bottom: 0;padding: 0.3em;box-sizing: border-box;text-align: center;}#sk-container-id-2 label.sk-toggleable__label-arrow:before {content: \"▸\";float: left;margin-right: 0.25em;color: #696969;}#sk-container-id-2 label.sk-toggleable__label-arrow:hover:before {color: black;}#sk-container-id-2 div.sk-estimator:hover label.sk-toggleable__label-arrow:before {color: black;}#sk-container-id-2 div.sk-toggleable__content {max-height: 0;max-width: 0;overflow: hidden;text-align: left;background-color: #f0f8ff;}#sk-container-id-2 div.sk-toggleable__content pre {margin: 0.2em;color: black;border-radius: 0.25em;background-color: #f0f8ff;}#sk-container-id-2 input.sk-toggleable__control:checked~div.sk-toggleable__content {max-height: 200px;max-width: 100%;overflow: auto;}#sk-container-id-2 input.sk-toggleable__control:checked~label.sk-toggleable__label-arrow:before {content: \"▾\";}#sk-container-id-2 div.sk-estimator input.sk-toggleable__control:checked~label.sk-toggleable__label {background-color: #d4ebff;}#sk-container-id-2 div.sk-label input.sk-toggleable__control:checked~label.sk-toggleable__label {background-color: #d4ebff;}#sk-container-id-2 input.sk-hidden--visually {border: 0;clip: rect(1px 1px 1px 1px);clip: rect(1px, 1px, 1px, 1px);height: 1px;margin: -1px;overflow: hidden;padding: 0;position: absolute;width: 1px;}#sk-container-id-2 div.sk-estimator {font-family: monospace;background-color: #f0f8ff;border: 1px dotted black;border-radius: 0.25em;box-sizing: border-box;margin-bottom: 0.5em;}#sk-container-id-2 div.sk-estimator:hover {background-color: #d4ebff;}#sk-container-id-2 div.sk-parallel-item::after {content: \"\";width: 100%;border-bottom: 1px solid gray;flex-grow: 1;}#sk-container-id-2 div.sk-label:hover label.sk-toggleable__label {background-color: #d4ebff;}#sk-container-id-2 div.sk-serial::before {content: \"\";position: absolute;border-left: 1px solid gray;box-sizing: border-box;top: 0;bottom: 0;left: 50%;z-index: 0;}#sk-container-id-2 div.sk-serial {display: flex;flex-direction: column;align-items: center;background-color: white;padding-right: 0.2em;padding-left: 0.2em;position: relative;}#sk-container-id-2 div.sk-item {position: relative;z-index: 1;}#sk-container-id-2 div.sk-parallel {display: flex;align-items: stretch;justify-content: center;background-color: white;position: relative;}#sk-container-id-2 div.sk-item::before, #sk-container-id-2 div.sk-parallel-item::before {content: \"\";position: absolute;border-left: 1px solid gray;box-sizing: border-box;top: 0;bottom: 0;left: 50%;z-index: -1;}#sk-container-id-2 div.sk-parallel-item {display: flex;flex-direction: column;z-index: 1;position: relative;background-color: white;}#sk-container-id-2 div.sk-parallel-item:first-child::after {align-self: flex-end;width: 50%;}#sk-container-id-2 div.sk-parallel-item:last-child::after {align-self: flex-start;width: 50%;}#sk-container-id-2 div.sk-parallel-item:only-child::after {width: 0;}#sk-container-id-2 div.sk-dashed-wrapped {border: 1px dashed gray;margin: 0 0.4em 0.5em 0.4em;box-sizing: border-box;padding-bottom: 0.4em;background-color: white;}#sk-container-id-2 div.sk-label label {font-family: monospace;font-weight: bold;display: inline-block;line-height: 1.2em;}#sk-container-id-2 div.sk-label-container {text-align: center;}#sk-container-id-2 div.sk-container {/* jupyter's `normalize.less` sets `[hidden] { display: none; }` but bootstrap.min.css set `[hidden] { display: none !important; }` so we also need the `!important` here to be able to override the default hidden behavior on the sphinx rendered scikit-learn.org. See: https://github.com/scikit-learn/scikit-learn/issues/21755 */display: inline-block !important;position: relative;}#sk-container-id-2 div.sk-text-repr-fallback {display: none;}</style><div id=\"sk-container-id-2\" class=\"sk-top-container\"><div class=\"sk-text-repr-fallback\"><pre>LinearRegression()</pre><b>In a Jupyter environment, please rerun this cell to show the HTML representation or trust the notebook. <br />On GitHub, the HTML representation is unable to render, please try loading this page with nbviewer.org.</b></div><div class=\"sk-container\" hidden><div class=\"sk-item\"><div class=\"sk-estimator sk-toggleable\"><input class=\"sk-toggleable__control sk-hidden--visually\" id=\"sk-estimator-id-2\" type=\"checkbox\" checked><label for=\"sk-estimator-id-2\" class=\"sk-toggleable__label sk-toggleable__label-arrow\">LinearRegression</label><div class=\"sk-toggleable__content\"><pre>LinearRegression()</pre></div></div></div></div></div>"
      ],
      "text/plain": [
       "LinearRegression()"
      ]
     },
     "execution_count": 32,
     "metadata": {},
     "output_type": "execute_result"
    }
   ],
   "source": [
    "from sklearn.linear_model import LinearRegression\n",
    "model = LinearRegression()\n",
    "model.fit(crop_num_tr ,crop_labels)"
   ]
  },
  {
   "cell_type": "code",
   "execution_count": 33,
   "id": "904643fb",
   "metadata": {},
   "outputs": [],
   "source": [
    "some_data = crop.iloc[:5]"
   ]
  },
  {
   "cell_type": "code",
   "execution_count": 34,
   "id": "26eb1f8b",
   "metadata": {},
   "outputs": [],
   "source": [
    "some_labels = crop_labels.iloc[:5]"
   ]
  },
  {
   "cell_type": "code",
   "execution_count": 35,
   "id": "32782951",
   "metadata": {},
   "outputs": [],
   "source": [
    "prepared_data = my_pipeline.transform(some_data)"
   ]
  },
  {
   "cell_type": "code",
   "execution_count": 36,
   "id": "8375639c",
   "metadata": {},
   "outputs": [
    {
     "data": {
      "text/plain": [
       "array([1949.76152207, 2158.34524362,  441.94485049, 2475.97971767,\n",
       "       2194.78995497])"
      ]
     },
     "execution_count": 36,
     "metadata": {},
     "output_type": "execute_result"
    }
   ],
   "source": [
    "model.predict(prepared_data)"
   ]
  },
  {
   "cell_type": "code",
   "execution_count": 37,
   "id": "9d9213a9",
   "metadata": {},
   "outputs": [
    {
     "data": {
      "text/plain": [
       "[658.77, 2228.97, 669.86, 3484.01, 2554.91]"
      ]
     },
     "execution_count": 37,
     "metadata": {},
     "output_type": "execute_result"
    }
   ],
   "source": [
    "list(some_labels)\n"
   ]
  },
  {
   "cell_type": "code",
   "execution_count": 38,
   "id": "8beabf00",
   "metadata": {},
   "outputs": [],
   "source": [
    "from sklearn.metrics import mean_squared_error\n",
    "crop_prediction =model.predict(crop_num_tr)\n",
    "lin_mse = mean_squared_error(crop_labels ,crop_prediction)\n",
    "lin_rmse = np.sqrt(lin_mse)"
   ]
  },
  {
   "cell_type": "code",
   "execution_count": 39,
   "id": "893fd606",
   "metadata": {},
   "outputs": [
    {
     "data": {
      "text/plain": [
       "691442.9783086812"
      ]
     },
     "execution_count": 39,
     "metadata": {},
     "output_type": "execute_result"
    }
   ],
   "source": [
    "lin_mse"
   ]
  },
  {
   "cell_type": "code",
   "execution_count": 40,
   "id": "d6c983a1",
   "metadata": {},
   "outputs": [],
   "source": [
    "from sklearn.model_selection import cross_val_score\n",
    "scores = cross_val_score(model,crop_num_tr ,crop_labels,scoring=\"neg_mean_squared_error\" ,cv=10)\n",
    "ramse_scores = np.sqrt(-scores)\n"
   ]
  },
  {
   "cell_type": "code",
   "execution_count": 41,
   "id": "efcf43ca",
   "metadata": {},
   "outputs": [
    {
     "data": {
      "text/plain": [
       "array([ 848.17680033, 2085.24218445,  643.1761282 ,  656.4349989 ,\n",
       "        427.03084927,  646.38824251, 1015.75306849,  295.32205109,\n",
       "        353.4427798 ,  536.71389279])"
      ]
     },
     "execution_count": 41,
     "metadata": {},
     "output_type": "execute_result"
    }
   ],
   "source": [
    "ramse_scores"
   ]
  },
  {
   "cell_type": "markdown",
   "id": "65443242",
   "metadata": {},
   "source": [
    "#### Decisiontree model"
   ]
  },
  {
   "cell_type": "code",
   "execution_count": 42,
   "id": "bdf1177c",
   "metadata": {},
   "outputs": [
    {
     "data": {
      "text/html": [
       "<style>#sk-container-id-3 {color: black;background-color: white;}#sk-container-id-3 pre{padding: 0;}#sk-container-id-3 div.sk-toggleable {background-color: white;}#sk-container-id-3 label.sk-toggleable__label {cursor: pointer;display: block;width: 100%;margin-bottom: 0;padding: 0.3em;box-sizing: border-box;text-align: center;}#sk-container-id-3 label.sk-toggleable__label-arrow:before {content: \"▸\";float: left;margin-right: 0.25em;color: #696969;}#sk-container-id-3 label.sk-toggleable__label-arrow:hover:before {color: black;}#sk-container-id-3 div.sk-estimator:hover label.sk-toggleable__label-arrow:before {color: black;}#sk-container-id-3 div.sk-toggleable__content {max-height: 0;max-width: 0;overflow: hidden;text-align: left;background-color: #f0f8ff;}#sk-container-id-3 div.sk-toggleable__content pre {margin: 0.2em;color: black;border-radius: 0.25em;background-color: #f0f8ff;}#sk-container-id-3 input.sk-toggleable__control:checked~div.sk-toggleable__content {max-height: 200px;max-width: 100%;overflow: auto;}#sk-container-id-3 input.sk-toggleable__control:checked~label.sk-toggleable__label-arrow:before {content: \"▾\";}#sk-container-id-3 div.sk-estimator input.sk-toggleable__control:checked~label.sk-toggleable__label {background-color: #d4ebff;}#sk-container-id-3 div.sk-label input.sk-toggleable__control:checked~label.sk-toggleable__label {background-color: #d4ebff;}#sk-container-id-3 input.sk-hidden--visually {border: 0;clip: rect(1px 1px 1px 1px);clip: rect(1px, 1px, 1px, 1px);height: 1px;margin: -1px;overflow: hidden;padding: 0;position: absolute;width: 1px;}#sk-container-id-3 div.sk-estimator {font-family: monospace;background-color: #f0f8ff;border: 1px dotted black;border-radius: 0.25em;box-sizing: border-box;margin-bottom: 0.5em;}#sk-container-id-3 div.sk-estimator:hover {background-color: #d4ebff;}#sk-container-id-3 div.sk-parallel-item::after {content: \"\";width: 100%;border-bottom: 1px solid gray;flex-grow: 1;}#sk-container-id-3 div.sk-label:hover label.sk-toggleable__label {background-color: #d4ebff;}#sk-container-id-3 div.sk-serial::before {content: \"\";position: absolute;border-left: 1px solid gray;box-sizing: border-box;top: 0;bottom: 0;left: 50%;z-index: 0;}#sk-container-id-3 div.sk-serial {display: flex;flex-direction: column;align-items: center;background-color: white;padding-right: 0.2em;padding-left: 0.2em;position: relative;}#sk-container-id-3 div.sk-item {position: relative;z-index: 1;}#sk-container-id-3 div.sk-parallel {display: flex;align-items: stretch;justify-content: center;background-color: white;position: relative;}#sk-container-id-3 div.sk-item::before, #sk-container-id-3 div.sk-parallel-item::before {content: \"\";position: absolute;border-left: 1px solid gray;box-sizing: border-box;top: 0;bottom: 0;left: 50%;z-index: -1;}#sk-container-id-3 div.sk-parallel-item {display: flex;flex-direction: column;z-index: 1;position: relative;background-color: white;}#sk-container-id-3 div.sk-parallel-item:first-child::after {align-self: flex-end;width: 50%;}#sk-container-id-3 div.sk-parallel-item:last-child::after {align-self: flex-start;width: 50%;}#sk-container-id-3 div.sk-parallel-item:only-child::after {width: 0;}#sk-container-id-3 div.sk-dashed-wrapped {border: 1px dashed gray;margin: 0 0.4em 0.5em 0.4em;box-sizing: border-box;padding-bottom: 0.4em;background-color: white;}#sk-container-id-3 div.sk-label label {font-family: monospace;font-weight: bold;display: inline-block;line-height: 1.2em;}#sk-container-id-3 div.sk-label-container {text-align: center;}#sk-container-id-3 div.sk-container {/* jupyter's `normalize.less` sets `[hidden] { display: none; }` but bootstrap.min.css set `[hidden] { display: none !important; }` so we also need the `!important` here to be able to override the default hidden behavior on the sphinx rendered scikit-learn.org. See: https://github.com/scikit-learn/scikit-learn/issues/21755 */display: inline-block !important;position: relative;}#sk-container-id-3 div.sk-text-repr-fallback {display: none;}</style><div id=\"sk-container-id-3\" class=\"sk-top-container\"><div class=\"sk-text-repr-fallback\"><pre>DecisionTreeRegressor()</pre><b>In a Jupyter environment, please rerun this cell to show the HTML representation or trust the notebook. <br />On GitHub, the HTML representation is unable to render, please try loading this page with nbviewer.org.</b></div><div class=\"sk-container\" hidden><div class=\"sk-item\"><div class=\"sk-estimator sk-toggleable\"><input class=\"sk-toggleable__control sk-hidden--visually\" id=\"sk-estimator-id-3\" type=\"checkbox\" checked><label for=\"sk-estimator-id-3\" class=\"sk-toggleable__label sk-toggleable__label-arrow\">DecisionTreeRegressor</label><div class=\"sk-toggleable__content\"><pre>DecisionTreeRegressor()</pre></div></div></div></div></div>"
      ],
      "text/plain": [
       "DecisionTreeRegressor()"
      ]
     },
     "execution_count": 42,
     "metadata": {},
     "output_type": "execute_result"
    }
   ],
   "source": [
    "from sklearn.tree import DecisionTreeRegressor\n",
    "model = DecisionTreeRegressor()\n",
    "model.fit(crop_num_tr ,crop_labels)"
   ]
  },
  {
   "cell_type": "code",
   "execution_count": 43,
   "id": "4ccd7533",
   "metadata": {},
   "outputs": [],
   "source": [
    "some_data = crop.iloc[:5]"
   ]
  },
  {
   "cell_type": "code",
   "execution_count": 44,
   "id": "fa3a3e7a",
   "metadata": {},
   "outputs": [],
   "source": [
    "some_labels = crop_labels.iloc[:5]"
   ]
  },
  {
   "cell_type": "code",
   "execution_count": 45,
   "id": "dec8cd2a",
   "metadata": {},
   "outputs": [],
   "source": [
    "prepared_data = my_pipeline.transform(some_data)"
   ]
  },
  {
   "cell_type": "code",
   "execution_count": 46,
   "id": "17b64ec1",
   "metadata": {},
   "outputs": [
    {
     "data": {
      "text/plain": [
       "array([ 658.77, 2228.97,  669.86, 3484.01, 2554.91])"
      ]
     },
     "execution_count": 46,
     "metadata": {},
     "output_type": "execute_result"
    }
   ],
   "source": [
    "model.predict(prepared_data)"
   ]
  },
  {
   "cell_type": "code",
   "execution_count": 47,
   "id": "e87aefa2",
   "metadata": {},
   "outputs": [
    {
     "data": {
      "text/plain": [
       "[658.77, 2228.97, 669.86, 3484.01, 2554.91]"
      ]
     },
     "execution_count": 47,
     "metadata": {},
     "output_type": "execute_result"
    }
   ],
   "source": [
    "list(some_labels)\n"
   ]
  },
  {
   "cell_type": "code",
   "execution_count": 48,
   "id": "6da0b24c",
   "metadata": {},
   "outputs": [],
   "source": [
    "from sklearn.metrics import mean_squared_error\n",
    "crop_prediction =model.predict(crop_num_tr)\n",
    "lin_mse = mean_squared_error(crop_labels ,crop_prediction)\n",
    "lin_rmse = np.sqrt(lin_mse)"
   ]
  },
  {
   "cell_type": "code",
   "execution_count": 49,
   "id": "d9dea5f2",
   "metadata": {},
   "outputs": [
    {
     "data": {
      "text/plain": [
       "0.0"
      ]
     },
     "execution_count": 49,
     "metadata": {},
     "output_type": "execute_result"
    }
   ],
   "source": [
    "lin_mse"
   ]
  },
  {
   "cell_type": "markdown",
   "id": "b014503b",
   "metadata": {},
   "source": [
    "### Evaluating the model"
   ]
  },
  {
   "cell_type": "markdown",
   "id": "9b0b0820",
   "metadata": {},
   "source": [
    "#### Cross validation"
   ]
  },
  {
   "cell_type": "code",
   "execution_count": 50,
   "id": "aa96956b",
   "metadata": {},
   "outputs": [],
   "source": [
    "from sklearn.model_selection import cross_val_score\n",
    "scores = cross_val_score(model,crop_num_tr ,crop_labels,scoring=\"neg_mean_squared_error\" ,cv=10)\n",
    "rmse_scores = np.sqrt(-scores)\n"
   ]
  },
  {
   "cell_type": "code",
   "execution_count": 51,
   "id": "c2b258a7",
   "metadata": {},
   "outputs": [
    {
     "data": {
      "text/plain": [
       "array([ 675.92765425, 1779.53153676,  513.36439629,  589.58846703,\n",
       "        127.3909101 ,  337.31211085,  335.73605742,  406.18070612,\n",
       "        646.67686655,   87.20583008])"
      ]
     },
     "execution_count": 51,
     "metadata": {},
     "output_type": "execute_result"
    }
   ],
   "source": [
    "rmse_scores"
   ]
  },
  {
   "cell_type": "code",
   "execution_count": 52,
   "id": "b5860462",
   "metadata": {},
   "outputs": [],
   "source": [
    "def print_scores(scores):\n",
    "    print(\"scores:\" , scores)\n",
    "    print(\"Mean:\", scores.mean())\n",
    "    print(\"standard Deviation:\" , scores.std())"
   ]
  },
  {
   "cell_type": "code",
   "execution_count": 53,
   "id": "3ae39981",
   "metadata": {},
   "outputs": [
    {
     "name": "stdout",
     "output_type": "stream",
     "text": [
      "scores: [ 675.92765425 1779.53153676  513.36439629  589.58846703  127.3909101\n",
      "  337.31211085  335.73605742  406.18070612  646.67686655   87.20583008]\n",
      "Mean: 549.891453542764\n",
      "standard Deviation: 452.15786380768196\n"
     ]
    }
   ],
   "source": [
    "print_scores(rmse_scores)"
   ]
  },
  {
   "cell_type": "code",
   "execution_count": 54,
   "id": "e2c7c106",
   "metadata": {},
   "outputs": [
    {
     "name": "stdout",
     "output_type": "stream",
     "text": [
      "scores: [ 848.17680033 2085.24218445  643.1761282   656.4349989   427.03084927\n",
      "  646.38824251 1015.75306849  295.32205109  353.4427798   536.71389279]\n",
      "Mean: 750.768099582652\n",
      "standard Deviation: 490.695426530016\n"
     ]
    }
   ],
   "source": [
    "print_scores(ramse_scores)"
   ]
  },
  {
   "cell_type": "markdown",
   "id": "597bbee1",
   "metadata": {},
   "source": [
    "# Random forest regressor"
   ]
  },
  {
   "cell_type": "code",
   "execution_count": 55,
   "id": "5379797e",
   "metadata": {},
   "outputs": [
    {
     "data": {
      "text/html": [
       "<style>#sk-container-id-4 {color: black;background-color: white;}#sk-container-id-4 pre{padding: 0;}#sk-container-id-4 div.sk-toggleable {background-color: white;}#sk-container-id-4 label.sk-toggleable__label {cursor: pointer;display: block;width: 100%;margin-bottom: 0;padding: 0.3em;box-sizing: border-box;text-align: center;}#sk-container-id-4 label.sk-toggleable__label-arrow:before {content: \"▸\";float: left;margin-right: 0.25em;color: #696969;}#sk-container-id-4 label.sk-toggleable__label-arrow:hover:before {color: black;}#sk-container-id-4 div.sk-estimator:hover label.sk-toggleable__label-arrow:before {color: black;}#sk-container-id-4 div.sk-toggleable__content {max-height: 0;max-width: 0;overflow: hidden;text-align: left;background-color: #f0f8ff;}#sk-container-id-4 div.sk-toggleable__content pre {margin: 0.2em;color: black;border-radius: 0.25em;background-color: #f0f8ff;}#sk-container-id-4 input.sk-toggleable__control:checked~div.sk-toggleable__content {max-height: 200px;max-width: 100%;overflow: auto;}#sk-container-id-4 input.sk-toggleable__control:checked~label.sk-toggleable__label-arrow:before {content: \"▾\";}#sk-container-id-4 div.sk-estimator input.sk-toggleable__control:checked~label.sk-toggleable__label {background-color: #d4ebff;}#sk-container-id-4 div.sk-label input.sk-toggleable__control:checked~label.sk-toggleable__label {background-color: #d4ebff;}#sk-container-id-4 input.sk-hidden--visually {border: 0;clip: rect(1px 1px 1px 1px);clip: rect(1px, 1px, 1px, 1px);height: 1px;margin: -1px;overflow: hidden;padding: 0;position: absolute;width: 1px;}#sk-container-id-4 div.sk-estimator {font-family: monospace;background-color: #f0f8ff;border: 1px dotted black;border-radius: 0.25em;box-sizing: border-box;margin-bottom: 0.5em;}#sk-container-id-4 div.sk-estimator:hover {background-color: #d4ebff;}#sk-container-id-4 div.sk-parallel-item::after {content: \"\";width: 100%;border-bottom: 1px solid gray;flex-grow: 1;}#sk-container-id-4 div.sk-label:hover label.sk-toggleable__label {background-color: #d4ebff;}#sk-container-id-4 div.sk-serial::before {content: \"\";position: absolute;border-left: 1px solid gray;box-sizing: border-box;top: 0;bottom: 0;left: 50%;z-index: 0;}#sk-container-id-4 div.sk-serial {display: flex;flex-direction: column;align-items: center;background-color: white;padding-right: 0.2em;padding-left: 0.2em;position: relative;}#sk-container-id-4 div.sk-item {position: relative;z-index: 1;}#sk-container-id-4 div.sk-parallel {display: flex;align-items: stretch;justify-content: center;background-color: white;position: relative;}#sk-container-id-4 div.sk-item::before, #sk-container-id-4 div.sk-parallel-item::before {content: \"\";position: absolute;border-left: 1px solid gray;box-sizing: border-box;top: 0;bottom: 0;left: 50%;z-index: -1;}#sk-container-id-4 div.sk-parallel-item {display: flex;flex-direction: column;z-index: 1;position: relative;background-color: white;}#sk-container-id-4 div.sk-parallel-item:first-child::after {align-self: flex-end;width: 50%;}#sk-container-id-4 div.sk-parallel-item:last-child::after {align-self: flex-start;width: 50%;}#sk-container-id-4 div.sk-parallel-item:only-child::after {width: 0;}#sk-container-id-4 div.sk-dashed-wrapped {border: 1px dashed gray;margin: 0 0.4em 0.5em 0.4em;box-sizing: border-box;padding-bottom: 0.4em;background-color: white;}#sk-container-id-4 div.sk-label label {font-family: monospace;font-weight: bold;display: inline-block;line-height: 1.2em;}#sk-container-id-4 div.sk-label-container {text-align: center;}#sk-container-id-4 div.sk-container {/* jupyter's `normalize.less` sets `[hidden] { display: none; }` but bootstrap.min.css set `[hidden] { display: none !important; }` so we also need the `!important` here to be able to override the default hidden behavior on the sphinx rendered scikit-learn.org. See: https://github.com/scikit-learn/scikit-learn/issues/21755 */display: inline-block !important;position: relative;}#sk-container-id-4 div.sk-text-repr-fallback {display: none;}</style><div id=\"sk-container-id-4\" class=\"sk-top-container\"><div class=\"sk-text-repr-fallback\"><pre>RandomForestRegressor()</pre><b>In a Jupyter environment, please rerun this cell to show the HTML representation or trust the notebook. <br />On GitHub, the HTML representation is unable to render, please try loading this page with nbviewer.org.</b></div><div class=\"sk-container\" hidden><div class=\"sk-item\"><div class=\"sk-estimator sk-toggleable\"><input class=\"sk-toggleable__control sk-hidden--visually\" id=\"sk-estimator-id-4\" type=\"checkbox\" checked><label for=\"sk-estimator-id-4\" class=\"sk-toggleable__label sk-toggleable__label-arrow\">RandomForestRegressor</label><div class=\"sk-toggleable__content\"><pre>RandomForestRegressor()</pre></div></div></div></div></div>"
      ],
      "text/plain": [
       "RandomForestRegressor()"
      ]
     },
     "execution_count": 55,
     "metadata": {},
     "output_type": "execute_result"
    }
   ],
   "source": [
    "from sklearn.ensemble import RandomForestRegressor\n",
    "model= RandomForestRegressor()\n",
    "model.fit(crop_num_tr ,crop_labels)\n"
   ]
  },
  {
   "cell_type": "code",
   "execution_count": 56,
   "id": "4719c268",
   "metadata": {},
   "outputs": [],
   "source": [
    "some_data = crop.iloc[:5]"
   ]
  },
  {
   "cell_type": "code",
   "execution_count": 57,
   "id": "80fee805",
   "metadata": {},
   "outputs": [],
   "source": [
    "some_labels = crop_labels.iloc[:5]"
   ]
  },
  {
   "cell_type": "code",
   "execution_count": 58,
   "id": "72cee3b2",
   "metadata": {},
   "outputs": [],
   "source": [
    "prepared_data = my_pipeline.transform(some_data)"
   ]
  },
  {
   "cell_type": "code",
   "execution_count": 59,
   "id": "033c5b37",
   "metadata": {},
   "outputs": [
    {
     "data": {
      "text/plain": [
       "array([1015.2378, 2507.5533,  655.3308, 3037.0446, 2483.808 ])"
      ]
     },
     "execution_count": 59,
     "metadata": {},
     "output_type": "execute_result"
    }
   ],
   "source": [
    "model.predict(prepared_data)"
   ]
  },
  {
   "cell_type": "code",
   "execution_count": 60,
   "id": "944d4851",
   "metadata": {},
   "outputs": [
    {
     "data": {
      "text/plain": [
       "[658.77, 2228.97, 669.86, 3484.01, 2554.91]"
      ]
     },
     "execution_count": 60,
     "metadata": {},
     "output_type": "execute_result"
    }
   ],
   "source": [
    "list(some_labels)\n"
   ]
  },
  {
   "cell_type": "code",
   "execution_count": 61,
   "id": "3a73cada",
   "metadata": {},
   "outputs": [],
   "source": [
    "from sklearn.metrics import mean_squared_error\n",
    "crop_prediction =model.predict(crop_num_tr)\n",
    "lin_mse = mean_squared_error(crop_labels ,crop_prediction)\n",
    "lin_rmse = np.sqrt(lin_mse)"
   ]
  },
  {
   "cell_type": "code",
   "execution_count": 62,
   "id": "2c6fea51",
   "metadata": {},
   "outputs": [
    {
     "data": {
      "text/plain": [
       "82806.43447489663"
      ]
     },
     "execution_count": 62,
     "metadata": {},
     "output_type": "execute_result"
    }
   ],
   "source": [
    "lin_mse"
   ]
  },
  {
   "cell_type": "code",
   "execution_count": 63,
   "id": "34f1e3e4",
   "metadata": {},
   "outputs": [],
   "source": [
    "from sklearn.model_selection import cross_val_score\n",
    "scores = cross_val_score(model,crop_num_tr ,crop_labels,scoring=\"neg_mean_squared_error\" ,cv=10)\n",
    "ranmse_scores = np.sqrt(-scores)"
   ]
  },
  {
   "cell_type": "code",
   "execution_count": 64,
   "id": "e29bf247",
   "metadata": {},
   "outputs": [
    {
     "data": {
      "text/plain": [
       "array([ 685.15991474, 1778.81788099,  382.92954852,  411.12884444,\n",
       "        963.32766477,  392.00592079,  736.61036265,  300.33085592,\n",
       "        524.53245107,  220.98518505])"
      ]
     },
     "execution_count": 64,
     "metadata": {},
     "output_type": "execute_result"
    }
   ],
   "source": [
    "ranmse_scores"
   ]
  },
  {
   "cell_type": "code",
   "execution_count": 65,
   "id": "188368db",
   "metadata": {},
   "outputs": [],
   "source": [
    "def print_scores(scores):\n",
    "    print(\"scores:\" , scores)\n",
    "    print(\"Mean:\", scores.mean())\n",
    "    print(\"standard Deviation:\" , scores.std())"
   ]
  },
  {
   "cell_type": "code",
   "execution_count": 66,
   "id": "77772d3a",
   "metadata": {},
   "outputs": [
    {
     "name": "stdout",
     "output_type": "stream",
     "text": [
      "scores: [ 685.15991474 1778.81788099  382.92954852  411.12884444  963.32766477\n",
      "  392.00592079  736.61036265  300.33085592  524.53245107  220.98518505]\n",
      "Mean: 639.582862894927\n",
      "standard Deviation: 435.5534144676184\n"
     ]
    }
   ],
   "source": [
    "print_scores(ranmse_scores)"
   ]
  },
  {
   "cell_type": "markdown",
   "id": "5c8fdde8",
   "metadata": {},
   "source": [
    "# Final model"
   ]
  },
  {
   "cell_type": "code",
   "execution_count": 67,
   "id": "d725127c",
   "metadata": {},
   "outputs": [
    {
     "data": {
      "text/plain": [
       "['Cost.joblib']"
      ]
     },
     "execution_count": 67,
     "metadata": {},
     "output_type": "execute_result"
    }
   ],
   "source": [
    "from joblib import dump ,load\n",
    "dump(model, 'Cost.joblib')"
   ]
  },
  {
   "cell_type": "markdown",
   "id": "f0af905a",
   "metadata": {},
   "source": [
    "# Testing the model"
   ]
  },
  {
   "cell_type": "code",
   "execution_count": 68,
   "id": "504efb5d",
   "metadata": {},
   "outputs": [
    {
     "name": "stdout",
     "output_type": "stream",
     "text": [
      "[1015.2378000000004, 2507.5533000000014, 655.3308000000005, 3037.0446000000015, 2483.808000000002, 4455.196199999994, 1541.9445999999984, 569.7587000000004, 778.3263000000011, 700.1251000000011, 2239.212799999997, 2013.2239000000018, 2914.0799999999995, 2317.9820999999984, 103.78450000000002, 103.31930000000006, 2672.4840000000045, 744.8437000000002, 2367.4059000000007, 111.50790000000002, 729.6710000000005, 1742.4390999999998, 2105.1372999999967, 120.87459999999997, 1432.528800000001, 610.3108000000007, 2050.0174999999977, 3254.6951999999983, 1849.9824999999976, 1398.8287999999986, 744.1922000000008, 1380.6521999999986, 1946.4605000000013, 2098.3860000000022, 1583.957099999999, 210.9313999999999, 2182.9864999999972, 2409.7421000000013, 758.2752000000012] [658.77, 2228.97, 669.86, 3484.01, 2554.91, 5777.48, 1595.56, 404.43, 840.58, 683.58, 2277.68, 1691.66, 3207.35, 2261.24, 86.53, 85.79, 2068.67, 731.25, 2358.0, 107.56, 789.9, 1559.04, 1898.3, 119.72, 1279.6, 581.69, 1941.55, 3670.54, 1610.4, 1341.29, 732.62, 1251.12, 2127.35, 2179.26, 1387.36, 93.64, 2172.46, 2539.47, 804.8]\n"
     ]
    }
   ],
   "source": [
    "x_test = strat_train_set.drop('Cost of Production (`/Quintal) C2' , axis =1)\n",
    "y_test = strat_train_set['Cost of Production (`/Quintal) C2'].copy()\n",
    "x_test_prepared = my_pipeline.transform(x_test)\n",
    "final_predictions = model.predict(x_test_prepared)\n",
    "final_mse = mean_squared_error(y_test,final_predictions)\n",
    "final_rmse = np.sqrt(final_mse)\n",
    "print(list(final_predictions) , list(y_test))"
   ]
  },
  {
   "cell_type": "code",
   "execution_count": 69,
   "id": "e72c869b",
   "metadata": {},
   "outputs": [
    {
     "data": {
      "text/plain": [
       "287.76107185457977"
      ]
     },
     "execution_count": 69,
     "metadata": {},
     "output_type": "execute_result"
    }
   ],
   "source": [
    "final_rmse"
   ]
  },
  {
   "cell_type": "code",
   "execution_count": 70,
   "id": "8136b860",
   "metadata": {},
   "outputs": [
    {
     "data": {
      "text/plain": [
       "array([-0.20701356,  0.88128065, -0.46056913, -0.58346255, -0.35440995])"
      ]
     },
     "execution_count": 70,
     "metadata": {},
     "output_type": "execute_result"
    }
   ],
   "source": [
    "prepared_data[0]"
   ]
  },
  {
   "cell_type": "code",
   "execution_count": null,
   "id": "04c87154",
   "metadata": {},
   "outputs": [],
   "source": []
  }
 ],
 "metadata": {
  "kernelspec": {
   "display_name": "Python 3 (ipykernel)",
   "language": "python",
   "name": "python3"
  },
  "language_info": {
   "codemirror_mode": {
    "name": "ipython",
    "version": 3
   },
   "file_extension": ".py",
   "mimetype": "text/x-python",
   "name": "python",
   "nbconvert_exporter": "python",
   "pygments_lexer": "ipython3",
   "version": "3.10.2"
  }
 },
 "nbformat": 4,
 "nbformat_minor": 5
}
