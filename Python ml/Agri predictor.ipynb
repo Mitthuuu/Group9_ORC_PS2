{
 "cells": [
  {
   "cell_type": "code",
   "execution_count": 1,
   "id": "2f86fe1b",
   "metadata": {},
   "outputs": [],
   "source": [
    "import pandas as pd\n"
   ]
  },
  {
   "cell_type": "code",
   "execution_count": 2,
   "id": "2de2a783",
   "metadata": {},
   "outputs": [
    {
     "data": {
      "text/html": [
       "<div>\n",
       "<style scoped>\n",
       "    .dataframe tbody tr th:only-of-type {\n",
       "        vertical-align: middle;\n",
       "    }\n",
       "\n",
       "    .dataframe tbody tr th {\n",
       "        vertical-align: top;\n",
       "    }\n",
       "\n",
       "    .dataframe thead th {\n",
       "        text-align: right;\n",
       "    }\n",
       "</style>\n",
       "<table border=\"1\" class=\"dataframe\">\n",
       "  <thead>\n",
       "    <tr style=\"text-align: right;\">\n",
       "      <th></th>\n",
       "      <th>Crop</th>\n",
       "      <th>State</th>\n",
       "      <th>Cost of Cultivation (`/Hectare) A2+FL</th>\n",
       "      <th>Cost of Cultivation (`/Hectare) C2</th>\n",
       "      <th>Cost of Production (`/Quintal) C2</th>\n",
       "      <th>Yield (Quintal/ Hectare)</th>\n",
       "    </tr>\n",
       "  </thead>\n",
       "  <tbody>\n",
       "    <tr>\n",
       "      <th>0</th>\n",
       "      <td>ARHAR</td>\n",
       "      <td>Uttar Pradesh</td>\n",
       "      <td>9794.05</td>\n",
       "      <td>23076.74</td>\n",
       "      <td>1941.55</td>\n",
       "      <td>9.83</td>\n",
       "    </tr>\n",
       "    <tr>\n",
       "      <th>1</th>\n",
       "      <td>ARHAR</td>\n",
       "      <td>Karnataka</td>\n",
       "      <td>10593.15</td>\n",
       "      <td>16528.68</td>\n",
       "      <td>2172.46</td>\n",
       "      <td>7.47</td>\n",
       "    </tr>\n",
       "    <tr>\n",
       "      <th>2</th>\n",
       "      <td>ARHAR</td>\n",
       "      <td>Gujarat</td>\n",
       "      <td>13468.82</td>\n",
       "      <td>19551.90</td>\n",
       "      <td>1898.30</td>\n",
       "      <td>9.59</td>\n",
       "    </tr>\n",
       "    <tr>\n",
       "      <th>3</th>\n",
       "      <td>ARHAR</td>\n",
       "      <td>Andhra Pradesh</td>\n",
       "      <td>17051.66</td>\n",
       "      <td>24171.65</td>\n",
       "      <td>3670.54</td>\n",
       "      <td>6.42</td>\n",
       "    </tr>\n",
       "    <tr>\n",
       "      <th>4</th>\n",
       "      <td>ARHAR</td>\n",
       "      <td>Maharashtra</td>\n",
       "      <td>17130.55</td>\n",
       "      <td>25270.26</td>\n",
       "      <td>2775.80</td>\n",
       "      <td>8.72</td>\n",
       "    </tr>\n",
       "  </tbody>\n",
       "</table>\n",
       "</div>"
      ],
      "text/plain": [
       "    Crop           State  Cost of Cultivation (`/Hectare) A2+FL  \\\n",
       "0  ARHAR   Uttar Pradesh                                9794.05   \n",
       "1  ARHAR       Karnataka                               10593.15   \n",
       "2  ARHAR         Gujarat                               13468.82   \n",
       "3  ARHAR  Andhra Pradesh                               17051.66   \n",
       "4  ARHAR     Maharashtra                               17130.55   \n",
       "\n",
       "   Cost of Cultivation (`/Hectare) C2  Cost of Production (`/Quintal) C2  \\\n",
       "0                            23076.74                            1941.55   \n",
       "1                            16528.68                            2172.46   \n",
       "2                            19551.90                            1898.30   \n",
       "3                            24171.65                            3670.54   \n",
       "4                            25270.26                            2775.80   \n",
       "\n",
       "   Yield (Quintal/ Hectare)  \n",
       "0                      9.83  \n",
       "1                      7.47  \n",
       "2                      9.59  \n",
       "3                      6.42  \n",
       "4                      8.72  "
      ]
     },
     "execution_count": 2,
     "metadata": {},
     "output_type": "execute_result"
    }
   ],
   "source": [
    "crop = pd.read_csv(\"CropData.csv\")\n",
    "crop.head()"
   ]
  },
  {
   "cell_type": "code",
   "execution_count": 3,
   "id": "b95303aa",
   "metadata": {},
   "outputs": [
    {
     "name": "stdout",
     "output_type": "stream",
     "text": [
      "<class 'pandas.core.frame.DataFrame'>\n",
      "RangeIndex: 49 entries, 0 to 48\n",
      "Data columns (total 6 columns):\n",
      " #   Column                                 Non-Null Count  Dtype  \n",
      "---  ------                                 --------------  -----  \n",
      " 0   Crop                                   49 non-null     object \n",
      " 1   State                                  49 non-null     object \n",
      " 2   Cost of Cultivation (`/Hectare) A2+FL  49 non-null     float64\n",
      " 3   Cost of Cultivation (`/Hectare) C2     49 non-null     float64\n",
      " 4   Cost of Production (`/Quintal) C2      49 non-null     float64\n",
      " 5   Yield (Quintal/ Hectare)               49 non-null     float64\n",
      "dtypes: float64(4), object(2)\n",
      "memory usage: 2.4+ KB\n"
     ]
    }
   ],
   "source": [
    "crop.info()"
   ]
  },
  {
   "cell_type": "code",
   "execution_count": 4,
   "id": "9be76e14",
   "metadata": {},
   "outputs": [
    {
     "data": {
      "text/html": [
       "<div>\n",
       "<style scoped>\n",
       "    .dataframe tbody tr th:only-of-type {\n",
       "        vertical-align: middle;\n",
       "    }\n",
       "\n",
       "    .dataframe tbody tr th {\n",
       "        vertical-align: top;\n",
       "    }\n",
       "\n",
       "    .dataframe thead th {\n",
       "        text-align: right;\n",
       "    }\n",
       "</style>\n",
       "<table border=\"1\" class=\"dataframe\">\n",
       "  <thead>\n",
       "    <tr style=\"text-align: right;\">\n",
       "      <th></th>\n",
       "      <th>Cost of Cultivation (`/Hectare) A2+FL</th>\n",
       "      <th>Cost of Cultivation (`/Hectare) C2</th>\n",
       "      <th>Cost of Production (`/Quintal) C2</th>\n",
       "      <th>Yield (Quintal/ Hectare)</th>\n",
       "    </tr>\n",
       "  </thead>\n",
       "  <tbody>\n",
       "    <tr>\n",
       "      <th>count</th>\n",
       "      <td>49.000000</td>\n",
       "      <td>49.000000</td>\n",
       "      <td>49.000000</td>\n",
       "      <td>49.000000</td>\n",
       "    </tr>\n",
       "    <tr>\n",
       "      <th>mean</th>\n",
       "      <td>20363.537347</td>\n",
       "      <td>31364.666735</td>\n",
       "      <td>1620.537755</td>\n",
       "      <td>98.086735</td>\n",
       "    </tr>\n",
       "    <tr>\n",
       "      <th>std</th>\n",
       "      <td>13561.435306</td>\n",
       "      <td>20095.783569</td>\n",
       "      <td>1104.990472</td>\n",
       "      <td>245.293123</td>\n",
       "    </tr>\n",
       "    <tr>\n",
       "      <th>min</th>\n",
       "      <td>5483.540000</td>\n",
       "      <td>7868.640000</td>\n",
       "      <td>85.790000</td>\n",
       "      <td>1.320000</td>\n",
       "    </tr>\n",
       "    <tr>\n",
       "      <th>25%</th>\n",
       "      <td>12774.410000</td>\n",
       "      <td>19259.840000</td>\n",
       "      <td>732.620000</td>\n",
       "      <td>9.590000</td>\n",
       "    </tr>\n",
       "    <tr>\n",
       "      <th>50%</th>\n",
       "      <td>17022.000000</td>\n",
       "      <td>25909.050000</td>\n",
       "      <td>1595.560000</td>\n",
       "      <td>13.700000</td>\n",
       "    </tr>\n",
       "    <tr>\n",
       "      <th>75%</th>\n",
       "      <td>24731.060000</td>\n",
       "      <td>35423.480000</td>\n",
       "      <td>2228.970000</td>\n",
       "      <td>36.610000</td>\n",
       "    </tr>\n",
       "    <tr>\n",
       "      <th>max</th>\n",
       "      <td>66335.060000</td>\n",
       "      <td>91442.630000</td>\n",
       "      <td>5777.480000</td>\n",
       "      <td>1015.450000</td>\n",
       "    </tr>\n",
       "  </tbody>\n",
       "</table>\n",
       "</div>"
      ],
      "text/plain": [
       "       Cost of Cultivation (`/Hectare) A2+FL  \\\n",
       "count                              49.000000   \n",
       "mean                            20363.537347   \n",
       "std                             13561.435306   \n",
       "min                              5483.540000   \n",
       "25%                             12774.410000   \n",
       "50%                             17022.000000   \n",
       "75%                             24731.060000   \n",
       "max                             66335.060000   \n",
       "\n",
       "       Cost of Cultivation (`/Hectare) C2  Cost of Production (`/Quintal) C2  \\\n",
       "count                           49.000000                          49.000000   \n",
       "mean                         31364.666735                        1620.537755   \n",
       "std                          20095.783569                        1104.990472   \n",
       "min                           7868.640000                          85.790000   \n",
       "25%                          19259.840000                         732.620000   \n",
       "50%                          25909.050000                        1595.560000   \n",
       "75%                          35423.480000                        2228.970000   \n",
       "max                          91442.630000                        5777.480000   \n",
       "\n",
       "       Yield (Quintal/ Hectare)  \n",
       "count                 49.000000  \n",
       "mean                  98.086735  \n",
       "std                  245.293123  \n",
       "min                    1.320000  \n",
       "25%                    9.590000  \n",
       "50%                   13.700000  \n",
       "75%                   36.610000  \n",
       "max                 1015.450000  "
      ]
     },
     "execution_count": 4,
     "metadata": {},
     "output_type": "execute_result"
    }
   ],
   "source": [
    "crop.describe()"
   ]
  },
  {
   "cell_type": "code",
   "execution_count": 5,
   "id": "65837957",
   "metadata": {},
   "outputs": [],
   "source": [
    "%matplotlib inline"
   ]
  },
  {
   "cell_type": "code",
   "execution_count": 6,
   "id": "98935cc3",
   "metadata": {},
   "outputs": [],
   "source": [
    "import matplotlib as plt"
   ]
  },
  {
   "cell_type": "code",
   "execution_count": 7,
   "id": "ef9462cd",
   "metadata": {},
   "outputs": [
    {
     "data": {
      "text/plain": [
       "array([[<AxesSubplot: title={'center': 'Cost of Cultivation (`/Hectare) A2+FL'}>,\n",
       "        <AxesSubplot: title={'center': 'Cost of Cultivation (`/Hectare) C2'}>],\n",
       "       [<AxesSubplot: title={'center': 'Cost of Production (`/Quintal) C2'}>,\n",
       "        <AxesSubplot: title={'center': 'Yield (Quintal/ Hectare)'}>]],\n",
       "      dtype=object)"
      ]
     },
     "execution_count": 7,
     "metadata": {},
     "output_type": "execute_result"
    },
    {
     "data": {
      "image/png": "[encoded data removed]",
      "text/plain": [
       "<Figure size 2000x1500 with 4 Axes>"
      ]
     },
     "metadata": {},
     "output_type": "display_data"
    }
   ],
   "source": [
    "crop.hist(bins=50 ,figsize=(20,15))"
   ]
  },
  {
   "cell_type": "markdown",
   "id": "517d98cf",
   "metadata": {},
   "source": [
    "# Test spliting\n"
   ]
  },
  {
   "cell_type": "code",
   "execution_count": 8,
   "id": "34dd3a4a",
   "metadata": {},
   "outputs": [],
   "source": [
    "import numpy as np"
   ]
  },
  {
   "cell_type": "code",
   "execution_count": 9,
   "id": "a9fae10d",
   "metadata": {},
   "outputs": [
    {
     "name": "stdout",
     "output_type": "stream",
     "text": [
      "Rows in test set:10\n",
      "Rows in train set: 39\n",
      "\n"
     ]
    }
   ],
   "source": [
    "from sklearn.model_selection import train_test_split\n",
    "train_set ,test_set = train_test_split(crop , test_size = 0.2 , random_state = 42)\n",
    "print(f\"Rows in test set:{len(test_set)}\\nRows in train set: {len(train_set)}\\n\")"
   ]
  },
  {
   "cell_type": "code",
   "execution_count": 10,
   "id": "fe3decb9",
   "metadata": {},
   "outputs": [],
   "source": [
    "from sklearn.model_selection import ShuffleSplit\n",
    "split = ShuffleSplit(n_splits=1 ,test_size = 0.2, random_state = 4)\n",
    "for train_index ,test_index in split.split(crop, crop['Cost of Cultivation (`/Hectare) C2']):\n",
    "    strat_train_set = crop.loc[train_index]\n",
    "    strat_test_set = crop.loc[test_index]"
   ]
  },
  {
   "cell_type": "markdown",
   "id": "d1f67c88",
   "metadata": {},
   "source": [
    "# Looking for correlations"
   ]
  },
  {
   "cell_type": "code",
   "execution_count": 11,
   "id": "ecb73a97",
   "metadata": {},
   "outputs": [],
   "source": [
    "corr_matrix = crop.corr()"
   ]
  },
  {
   "cell_type": "code",
   "execution_count": 12,
   "id": "3b385ee5",
   "metadata": {},
   "outputs": [
    {
     "data": {
      "text/plain": [
       "Cost of Cultivation (`/Hectare) C2       1.000000\n",
       "Cost of Cultivation (`/Hectare) A2+FL    0.981225\n",
       "Yield (Quintal/ Hectare)                 0.866424\n",
       "Cost of Production (`/Quintal) C2       -0.497092\n",
       "Name: Cost of Cultivation (`/Hectare) C2, dtype: float64"
      ]
     },
     "execution_count": 12,
     "metadata": {},
     "output_type": "execute_result"
    }
   ],
   "source": [
    "corr_matrix['Cost of Cultivation (`/Hectare) C2'].sort_values(ascending=False)# strong positive correlation"
   ]
  },
  {
   "cell_type": "code",
   "execution_count": 13,
   "id": "58b36ff9",
   "metadata": {},
   "outputs": [
    {
     "data": {
      "text/plain": [
       "array([[<AxesSubplot: xlabel='Cost of Cultivation (`/Hectare) A2+FL', ylabel='Cost of Cultivation (`/Hectare) A2+FL'>,\n",
       "        <AxesSubplot: xlabel='Yield (Quintal/ Hectare)', ylabel='Cost of Cultivation (`/Hectare) A2+FL'>,\n",
       "        <AxesSubplot: xlabel='Cost of Cultivation (`/Hectare) C2', ylabel='Cost of Cultivation (`/Hectare) A2+FL'>,\n",
       "        <AxesSubplot: xlabel='Cost of Production (`/Quintal) C2', ylabel='Cost of Cultivation (`/Hectare) A2+FL'>],\n",
       "       [<AxesSubplot: xlabel='Cost of Cultivation (`/Hectare) A2+FL', ylabel='Yield (Quintal/ Hectare)'>,\n",
       "        <AxesSubplot: xlabel='Yield (Quintal/ Hectare)', ylabel='Yield (Quintal/ Hectare)'>,\n",
       "        <AxesSubplot: xlabel='Cost of Cultivation (`/Hectare) C2', ylabel='Yield (Quintal/ Hectare)'>,\n",
       "        <AxesSubplot: xlabel='Cost of Production (`/Quintal) C2', ylabel='Yield (Quintal/ Hectare)'>],\n",
       "       [<AxesSubplot: xlabel='Cost of Cultivation (`/Hectare) A2+FL', ylabel='Cost of Cultivation (`/Hectare) C2'>,\n",
       "        <AxesSubplot: xlabel='Yield (Quintal/ Hectare)', ylabel='Cost of Cultivation (`/Hectare) C2'>,\n",
       "        <AxesSubplot: xlabel='Cost of Cultivation (`/Hectare) C2', ylabel='Cost of Cultivation (`/Hectare) C2'>,\n",
       "        <AxesSubplot: xlabel='Cost of Production (`/Quintal) C2', ylabel='Cost of Cultivation (`/Hectare) C2'>],\n",
       "       [<AxesSubplot: xlabel='Cost of Cultivation (`/Hectare) A2+FL', ylabel='Cost of Production (`/Quintal) C2'>,\n",
       "        <AxesSubplot: xlabel='Yield (Quintal/ Hectare)', ylabel='Cost of Production (`/Quintal) C2'>,\n",
       "        <AxesSubplot: xlabel='Cost of Cultivation (`/Hectare) C2', ylabel='Cost of Production (`/Quintal) C2'>,\n",
       "        <AxesSubplot: xlabel='Cost of Production (`/Quintal) C2', ylabel='Cost of Production (`/Quintal) C2'>]],\n",
       "      dtype=object)"
      ]
     },
     "execution_count": 13,
     "metadata": {},
     "output_type": "execute_result"
    },
    {
     "data": {
      "image/png": "[encoded data removed]",
      "text/plain": [
       "<Figure size 1200x800 with 16 Axes>"
      ]
     },
     "metadata": {},
     "output_type": "display_data"
    }
   ],
   "source": [
    "from pandas.plotting import scatter_matrix\n",
    "attributes = [\"Cost of Cultivation (`/Hectare) A2+FL\" ,\"Yield (Quintal/ Hectare)\",\"Cost of Cultivation (`/Hectare) C2\",\"Cost of Production (`/Quintal) C2\"]\n",
    "scatter_matrix(crop[attributes], figsize = (12,8))"
   ]
  },
  {
   "cell_type": "code",
   "execution_count": 14,
   "id": "432c9997",
   "metadata": {},
   "outputs": [
    {
     "name": "stderr",
     "output_type": "stream",
     "text": [
      "C:\\Python310\\lib\\site-packages\\pandas\\plotting\\_matplotlib\\core.py:1114: UserWarning: No data for colormapping provided via 'c'. Parameters 'cmap' will be ignored\n",
      "  scatter = ax.scatter(\n"
     ]
    },
    {
     "data": {
      "text/plain": [
       "<AxesSubplot: xlabel='Cost of Production (`/Quintal) C2', ylabel='Cost of Cultivation (`/Hectare) A2+FL'>"
      ]
     },
     "execution_count": 14,
     "metadata": {},
     "output_type": "execute_result"
    },
    {
     "data": {
      "image/png": "[encoded data removed]",
      "text/plain": [
       "<Figure size 640x480 with 1 Axes>"
      ]
     },
     "metadata": {},
     "output_type": "display_data"
    }
   ],
   "source": [
    "crop.plot(kind = \"scatter\" , x = \"Cost of Production (`/Quintal) C2\", y= \"Cost of Cultivation (`/Hectare) A2+FL\" ,alpha = 0.8)"
   ]
  },
  {
   "cell_type": "code",
   "execution_count": 15,
   "id": "82d5df52",
   "metadata": {},
   "outputs": [],
   "source": [
    "crop = strat_train_set.drop('Cost of Production (`/Quintal) C2' , axis =1)\n",
    "crop_labels = strat_train_set['Cost of Production (`/Quintal) C2'].copy()"
   ]
  },
  {
   "cell_type": "markdown",
   "id": "21c24e08",
   "metadata": {},
   "source": [
    "# Trying out Attribute combinations"
   ]
  },
  {
   "cell_type": "code",
   "execution_count": 16,
   "id": "1c45d4b2",
   "metadata": {},
   "outputs": [
    {
     "data": {
      "text/html": [
       "<style>#sk-container-id-1 {color: black;background-color: white;}#sk-container-id-1 pre{padding: 0;}#sk-container-id-1 div.sk-toggleable {background-color: white;}#sk-container-id-1 label.sk-toggleable__label {cursor: pointer;display: block;width: 100%;margin-bottom: 0;padding: 0.3em;box-sizing: border-box;text-align: center;}#sk-container-id-1 label.sk-toggleable__label-arrow:before {content: \"▸\";float: left;margin-right: 0.25em;color: #696969;}#sk-container-id-1 label.sk-toggleable__label-arrow:hover:before {color: black;}#sk-container-id-1 div.sk-estimator:hover label.sk-toggleable__label-arrow:before {color: black;}#sk-container-id-1 div.sk-toggleable__content {max-height: 0;max-width: 0;overflow: hidden;text-align: left;background-color: #f0f8ff;}#sk-container-id-1 div.sk-toggleable__content pre {margin: 0.2em;color: black;border-radius: 0.25em;background-color: #f0f8ff;}#sk-container-id-1 input.sk-toggleable__control:checked~div.sk-toggleable__content {max-height: 200px;max-width: 100%;overflow: auto;}#sk-container-id-1 input.sk-toggleable__control:checked~label.sk-toggleable__label-arrow:before {content: \"▾\";}#sk-container-id-1 div.sk-estimator input.sk-toggleable__control:checked~label.sk-toggleable__label {background-color: #d4ebff;}#sk-container-id-1 div.sk-label input.sk-toggleable__control:checked~label.sk-toggleable__label {background-color: #d4ebff;}#sk-container-id-1 input.sk-hidden--visually {border: 0;clip: rect(1px 1px 1px 1px);clip: rect(1px, 1px, 1px, 1px);height: 1px;margin: -1px;overflow: hidden;padding: 0;position: absolute;width: 1px;}#sk-container-id-1 div.sk-estimator {font-family: monospace;background-color: #f0f8ff;border: 1px dotted black;border-radius: 0.25em;box-sizing: border-box;margin-bottom: 0.5em;}#sk-container-id-1 div.sk-estimator:hover {background-color: #d4ebff;}#sk-container-id-1 div.sk-parallel-item::after {content: \"\";width: 100%;border-bottom: 1px solid gray;flex-grow: 1;}#sk-container-id-1 div.sk-label:hover label.sk-toggleable__label {background-color: #d4ebff;}#sk-container-id-1 div.sk-serial::before {content: \"\";position: absolute;border-left: 1px solid gray;box-sizing: border-box;top: 0;bottom: 0;left: 50%;z-index: 0;}#sk-container-id-1 div.sk-serial {display: flex;flex-direction: column;align-items: center;background-color: white;padding-right: 0.2em;padding-left: 0.2em;position: relative;}#sk-container-id-1 div.sk-item {position: relative;z-index: 1;}#sk-container-id-1 div.sk-parallel {display: flex;align-items: stretch;justify-content: center;background-color: white;position: relative;}#sk-container-id-1 div.sk-item::before, #sk-container-id-1 div.sk-parallel-item::before {content: \"\";position: absolute;border-left: 1px solid gray;box-sizing: border-box;top: 0;bottom: 0;left: 50%;z-index: -1;}#sk-container-id-1 div.sk-parallel-item {display: flex;flex-direction: column;z-index: 1;position: relative;background-color: white;}#sk-container-id-1 div.sk-parallel-item:first-child::after {align-self: flex-end;width: 50%;}#sk-container-id-1 div.sk-parallel-item:last-child::after {align-self: flex-start;width: 50%;}#sk-container-id-1 div.sk-parallel-item:only-child::after {width: 0;}#sk-container-id-1 div.sk-dashed-wrapped {border: 1px dashed gray;margin: 0 0.4em 0.5em 0.4em;box-sizing: border-box;padding-bottom: 0.4em;background-color: white;}#sk-container-id-1 div.sk-label label {font-family: monospace;font-weight: bold;display: inline-block;line-height: 1.2em;}#sk-container-id-1 div.sk-label-container {text-align: center;}#sk-container-id-1 div.sk-container {/* jupyter's `normalize.less` sets `[hidden] { display: none; }` but bootstrap.min.css set `[hidden] { display: none !important; }` so we also need the `!important` here to be able to override the default hidden behavior on the sphinx rendered scikit-learn.org. See: https://github.com/scikit-learn/scikit-learn/issues/21755 */display: inline-block !important;position: relative;}#sk-container-id-1 div.sk-text-repr-fallback {display: none;}</style><div id=\"sk-container-id-1\" class=\"sk-top-container\"><div class=\"sk-text-repr-fallback\"><pre>SimpleImputer(strategy=&#x27;median&#x27;)</pre><b>In a Jupyter environment, please rerun this cell to show the HTML representation or trust the notebook. <br />On GitHub, the HTML representation is unable to render, please try loading this page with nbviewer.org.</b></div><div class=\"sk-container\" hidden><div class=\"sk-item\"><div class=\"sk-estimator sk-toggleable\"><input class=\"sk-toggleable__control sk-hidden--visually\" id=\"sk-estimator-id-1\" type=\"checkbox\" checked><label for=\"sk-estimator-id-1\" class=\"sk-toggleable__label sk-toggleable__label-arrow\">SimpleImputer</label><div class=\"sk-toggleable__content\"><pre>SimpleImputer(strategy=&#x27;median&#x27;)</pre></div></div></div></div></div>"
      ],
      "text/plain": [
       "SimpleImputer(strategy='median')"
      ]
     },
     "execution_count": 16,
     "metadata": {},
     "output_type": "execute_result"
    }
   ],
   "source": [
    "from sklearn.impute import SimpleImputer\n",
    "imputer = SimpleImputer(strategy = \"median\")\n",
    "imputer.fit(crop.loc[:, ~crop.columns.isin(['Crop', 'State'])])\n"
   ]
  },
  {
   "cell_type": "code",
   "execution_count": 17,
   "id": "0a0d3f02",
   "metadata": {},
   "outputs": [
    {
     "data": {
      "text/plain": [
       "array([1.563543e+04, 2.676209e+04, 1.370000e+01])"
      ]
     },
     "execution_count": 17,
     "metadata": {},
     "output_type": "execute_result"
    }
   ],
   "source": [
    "imputer.statistics_"
   ]
  },
  {
   "cell_type": "code",
   "execution_count": 18,
   "id": "0c953798",
   "metadata": {},
   "outputs": [],
   "source": [
    "x = imputer.transform(crop.loc[:, ~crop.columns.isin(['Crop', 'State'])])"
   ]
  },
  {
   "cell_type": "code",
   "execution_count": 19,
   "id": "6c789da7",
   "metadata": {},
   "outputs": [],
   "source": [
    "crop_tr = pd.DataFrame(x , columns = crop.loc[:, ~crop.columns.isin(['Crop', 'State'])].columns)"
   ]
  },
  {
   "cell_type": "code",
   "execution_count": 20,
   "id": "411e2051",
   "metadata": {},
   "outputs": [
    {
     "data": {
      "text/html": [
       "<div>\n",
       "<style scoped>\n",
       "    .dataframe tbody tr th:only-of-type {\n",
       "        vertical-align: middle;\n",
       "    }\n",
       "\n",
       "    .dataframe tbody tr th {\n",
       "        vertical-align: top;\n",
       "    }\n",
       "\n",
       "    .dataframe thead th {\n",
       "        text-align: right;\n",
       "    }\n",
       "</style>\n",
       "<table border=\"1\" class=\"dataframe\">\n",
       "  <thead>\n",
       "    <tr style=\"text-align: right;\">\n",
       "      <th></th>\n",
       "      <th>Cost of Cultivation (`/Hectare) A2+FL</th>\n",
       "      <th>Cost of Cultivation (`/Hectare) C2</th>\n",
       "      <th>Yield (Quintal/ Hectare)</th>\n",
       "    </tr>\n",
       "  </thead>\n",
       "  <tbody>\n",
       "    <tr>\n",
       "      <th>count</th>\n",
       "      <td>39.000000</td>\n",
       "      <td>39.000000</td>\n",
       "      <td>39.000000</td>\n",
       "    </tr>\n",
       "    <tr>\n",
       "      <th>mean</th>\n",
       "      <td>21089.777692</td>\n",
       "      <td>32277.904872</td>\n",
       "      <td>118.631538</td>\n",
       "    </tr>\n",
       "    <tr>\n",
       "      <th>std</th>\n",
       "      <td>14667.698032</td>\n",
       "      <td>21647.656938</td>\n",
       "      <td>271.759740</td>\n",
       "    </tr>\n",
       "    <tr>\n",
       "      <th>min</th>\n",
       "      <td>6204.230000</td>\n",
       "      <td>7868.640000</td>\n",
       "      <td>1.320000</td>\n",
       "    </tr>\n",
       "    <tr>\n",
       "      <th>25%</th>\n",
       "      <td>12880.180000</td>\n",
       "      <td>19171.695000</td>\n",
       "      <td>9.460000</td>\n",
       "    </tr>\n",
       "    <tr>\n",
       "      <th>50%</th>\n",
       "      <td>15635.430000</td>\n",
       "      <td>26762.090000</td>\n",
       "      <td>13.700000</td>\n",
       "    </tr>\n",
       "    <tr>\n",
       "      <th>75%</th>\n",
       "      <td>24942.905000</td>\n",
       "      <td>36612.665000</td>\n",
       "      <td>39.435000</td>\n",
       "    </tr>\n",
       "    <tr>\n",
       "      <th>max</th>\n",
       "      <td>66335.060000</td>\n",
       "      <td>91442.630000</td>\n",
       "      <td>1015.450000</td>\n",
       "    </tr>\n",
       "  </tbody>\n",
       "</table>\n",
       "</div>"
      ],
      "text/plain": [
       "       Cost of Cultivation (`/Hectare) A2+FL  \\\n",
       "count                              39.000000   \n",
       "mean                            21089.777692   \n",
       "std                             14667.698032   \n",
       "min                              6204.230000   \n",
       "25%                             12880.180000   \n",
       "50%                             15635.430000   \n",
       "75%                             24942.905000   \n",
       "max                             66335.060000   \n",
       "\n",
       "       Cost of Cultivation (`/Hectare) C2  Yield (Quintal/ Hectare)  \n",
       "count                           39.000000                 39.000000  \n",
       "mean                         32277.904872                118.631538  \n",
       "std                          21647.656938                271.759740  \n",
       "min                           7868.640000                  1.320000  \n",
       "25%                          19171.695000                  9.460000  \n",
       "50%                          26762.090000                 13.700000  \n",
       "75%                          36612.665000                 39.435000  \n",
       "max                          91442.630000               1015.450000  "
      ]
     },
     "execution_count": 20,
     "metadata": {},
     "output_type": "execute_result"
    }
   ],
   "source": [
    "crop_tr.describe()"
   ]
  },
  {
   "cell_type": "markdown",
   "id": "48bcf1f5",
   "metadata": {},
   "source": [
    "# Creating a pipeline"
   ]
  },
  {
   "cell_type": "code",
   "execution_count": 21,
   "id": "406830f9",
   "metadata": {},
   "outputs": [],
   "source": [
    "from sklearn.pipeline import Pipeline\n",
    "from sklearn.preprocessing import StandardScaler\n",
    "my_pipeline = Pipeline([\n",
    "    ('imputer' ,SimpleImputer(strategy=\"median\")),\n",
    "    ('std_scaler',StandardScaler())\n",
    "])"
   ]
  },
  {
   "cell_type": "code",
   "execution_count": 22,
   "id": "7344b96d",
   "metadata": {},
   "outputs": [],
   "source": [
    "crop_num_tr = my_pipeline.fit_transform(crop.loc[:, ~crop.columns.isin(['Crop', 'State'])])"
   ]
  },
  {
   "cell_type": "code",
   "execution_count": 23,
   "id": "c2a2ba70",
   "metadata": {},
   "outputs": [
    {
     "data": {
      "text/plain": [
       "array([[-0.46056913, -0.58346255, -0.35440995],\n",
       "       [-0.99496963, -0.89237639, -0.42024332],\n",
       "       [ 0.28076058,  0.6090013 , -0.19094487],\n",
       "       [-0.51405283, -0.70027519, -0.42467943],\n",
       "       [ 0.00961653, -0.08626297, -0.39761543],\n",
       "       [-1.01179052, -1.14231087, -0.43731676],\n",
       "       [-0.57432802, -0.4547669 , -0.39165091],\n",
       "       [-0.52325134, -0.58124385, -0.28212745],\n",
       "       [ 0.31752838,  0.25851096, -0.28313396],\n",
       "       [-0.13611267, -0.1123881 , -0.30359971],\n",
       "       [-0.55971732, -0.6363895 , -0.4122285 ],\n",
       "       [-0.86591489, -0.92038374, -0.41677645],\n",
       "       [ 0.34457344,  0.01897927, -0.40745689],\n",
       "       [-0.71202596, -0.79119249, -0.41726106],\n",
       "       [ 2.38739031,  2.54993671,  3.23417971],\n",
       "       [ 3.12501314,  2.65567735,  3.34318128],\n",
       "       [-1.02811895, -1.08161588, -0.4271398 ],\n",
       "       [ 0.25149705,  0.03595112, -0.29670324],\n",
       "       [ 0.09794448, -0.08817936, -0.39757815],\n",
       "       [ 2.52678112,  2.50483162,  2.33130077],\n",
       "       [ 0.59226467,  0.6632386 , -0.23347935],\n",
       "       [-0.46053322, -0.25813048, -0.3800201 ],\n",
       "       [-0.52636632, -0.59555475, -0.40648765],\n",
       "       [ 2.45409092,  2.76880557,  2.3831548 ],\n",
       "       [-0.8566777 , -0.68194292, -0.39399944],\n",
       "       [-0.50398613, -0.54315756, -0.32630216],\n",
       "       [-0.78017631, -0.43059841, -0.40559297],\n",
       "       [-0.27890578, -0.37935854, -0.41830485],\n",
       "       [-0.50759219, -0.61747271, -0.39895745],\n",
       "       [-0.67024381, -0.60922265, -0.39176275],\n",
       "       [-0.28095435, -0.19343611, -0.30576185],\n",
       "       [-0.44027618, -0.22324473, -0.36790467],\n",
       "       [ 0.60981699,  0.54942432, -0.36805379],\n",
       "       [ 0.5888976 ,  0.4582735 , -0.37122244],\n",
       "       [-0.37672233, -0.52567514, -0.3911663 ],\n",
       "       [ 0.23818483,  0.60658043,  1.23114538],\n",
       "       [-0.72498386, -0.73703615, -0.41439064],\n",
       "       [ 0.18107367,  0.03925976, -0.3949314 ],\n",
       "       [-0.21716428,  0.14720741, -0.29375826]])"
      ]
     },
     "execution_count": 23,
     "metadata": {},
     "output_type": "execute_result"
    }
   ],
   "source": [
    "crop_num_tr"
   ]
  },
  {
   "cell_type": "markdown",
   "id": "a5d2ceb4",
   "metadata": {},
   "source": [
    "# Selecting a desired model"
   ]
  },
  {
   "cell_type": "code",
   "execution_count": 24,
   "id": "3e2bd872",
   "metadata": {},
   "outputs": [
    {
     "data": {
      "text/plain": [
       "(39, 3)"
      ]
     },
     "execution_count": 24,
     "metadata": {},
     "output_type": "execute_result"
    }
   ],
   "source": [
    "crop_num_tr.shape\n"
   ]
  },
  {
   "cell_type": "markdown",
   "id": "7cccf829",
   "metadata": {},
   "source": [
    "#### LinearRegression Model"
   ]
  },
  {
   "cell_type": "code",
   "execution_count": 25,
   "id": "617aadd8",
   "metadata": {},
   "outputs": [
    {
     "data": {
      "text/html": [
       "<style>#sk-container-id-2 {color: black;background-color: white;}#sk-container-id-2 pre{padding: 0;}#sk-container-id-2 div.sk-toggleable {background-color: white;}#sk-container-id-2 label.sk-toggleable__label {cursor: pointer;display: block;width: 100%;margin-bottom: 0;padding: 0.3em;box-sizing: border-box;text-align: center;}#sk-container-id-2 label.sk-toggleable__label-arrow:before {content: \"▸\";float: left;margin-right: 0.25em;color: #696969;}#sk-container-id-2 label.sk-toggleable__label-arrow:hover:before {color: black;}#sk-container-id-2 div.sk-estimator:hover label.sk-toggleable__label-arrow:before {color: black;}#sk-container-id-2 div.sk-toggleable__content {max-height: 0;max-width: 0;overflow: hidden;text-align: left;background-color: #f0f8ff;}#sk-container-id-2 div.sk-toggleable__content pre {margin: 0.2em;color: black;border-radius: 0.25em;background-color: #f0f8ff;}#sk-container-id-2 input.sk-toggleable__control:checked~div.sk-toggleable__content {max-height: 200px;max-width: 100%;overflow: auto;}#sk-container-id-2 input.sk-toggleable__control:checked~label.sk-toggleable__label-arrow:before {content: \"▾\";}#sk-container-id-2 div.sk-estimator input.sk-toggleable__control:checked~label.sk-toggleable__label {background-color: #d4ebff;}#sk-container-id-2 div.sk-label input.sk-toggleable__control:checked~label.sk-toggleable__label {background-color: #d4ebff;}#sk-container-id-2 input.sk-hidden--visually {border: 0;clip: rect(1px 1px 1px 1px);clip: rect(1px, 1px, 1px, 1px);height: 1px;margin: -1px;overflow: hidden;padding: 0;position: absolute;width: 1px;}#sk-container-id-2 div.sk-estimator {font-family: monospace;background-color: #f0f8ff;border: 1px dotted black;border-radius: 0.25em;box-sizing: border-box;margin-bottom: 0.5em;}#sk-container-id-2 div.sk-estimator:hover {background-color: #d4ebff;}#sk-container-id-2 div.sk-parallel-item::after {content: \"\";width: 100%;border-bottom: 1px solid gray;flex-grow: 1;}#sk-container-id-2 div.sk-label:hover label.sk-toggleable__label {background-color: #d4ebff;}#sk-container-id-2 div.sk-serial::before {content: \"\";position: absolute;border-left: 1px solid gray;box-sizing: border-box;top: 0;bottom: 0;left: 50%;z-index: 0;}#sk-container-id-2 div.sk-serial {display: flex;flex-direction: column;align-items: center;background-color: white;padding-right: 0.2em;padding-left: 0.2em;position: relative;}#sk-container-id-2 div.sk-item {position: relative;z-index: 1;}#sk-container-id-2 div.sk-parallel {display: flex;align-items: stretch;justify-content: center;background-color: white;position: relative;}#sk-container-id-2 div.sk-item::before, #sk-container-id-2 div.sk-parallel-item::before {content: \"\";position: absolute;border-left: 1px solid gray;box-sizing: border-box;top: 0;bottom: 0;left: 50%;z-index: -1;}#sk-container-id-2 div.sk-parallel-item {display: flex;flex-direction: column;z-index: 1;position: relative;background-color: white;}#sk-container-id-2 div.sk-parallel-item:first-child::after {align-self: flex-end;width: 50%;}#sk-container-id-2 div.sk-parallel-item:last-child::after {align-self: flex-start;width: 50%;}#sk-container-id-2 div.sk-parallel-item:only-child::after {width: 0;}#sk-container-id-2 div.sk-dashed-wrapped {border: 1px dashed gray;margin: 0 0.4em 0.5em 0.4em;box-sizing: border-box;padding-bottom: 0.4em;background-color: white;}#sk-container-id-2 div.sk-label label {font-family: monospace;font-weight: bold;display: inline-block;line-height: 1.2em;}#sk-container-id-2 div.sk-label-container {text-align: center;}#sk-container-id-2 div.sk-container {/* jupyter's `normalize.less` sets `[hidden] { display: none; }` but bootstrap.min.css set `[hidden] { display: none !important; }` so we also need the `!important` here to be able to override the default hidden behavior on the sphinx rendered scikit-learn.org. See: https://github.com/scikit-learn/scikit-learn/issues/21755 */display: inline-block !important;position: relative;}#sk-container-id-2 div.sk-text-repr-fallback {display: none;}</style><div id=\"sk-container-id-2\" class=\"sk-top-container\"><div class=\"sk-text-repr-fallback\"><pre>LinearRegression()</pre><b>In a Jupyter environment, please rerun this cell to show the HTML representation or trust the notebook. <br />On GitHub, the HTML representation is unable to render, please try loading this page with nbviewer.org.</b></div><div class=\"sk-container\" hidden><div class=\"sk-item\"><div class=\"sk-estimator sk-toggleable\"><input class=\"sk-toggleable__control sk-hidden--visually\" id=\"sk-estimator-id-2\" type=\"checkbox\" checked><label for=\"sk-estimator-id-2\" class=\"sk-toggleable__label sk-toggleable__label-arrow\">LinearRegression</label><div class=\"sk-toggleable__content\"><pre>LinearRegression()</pre></div></div></div></div></div>"
      ],
      "text/plain": [
       "LinearRegression()"
      ]
     },
     "execution_count": 25,
     "metadata": {},
     "output_type": "execute_result"
    }
   ],
   "source": [
    "from sklearn.linear_model import LinearRegression\n",
    "model = LinearRegression()\n",
    "model.fit(crop_num_tr ,crop_labels)"
   ]
  },
  {
   "cell_type": "code",
   "execution_count": 26,
   "id": "598a4a71",
   "metadata": {},
   "outputs": [],
   "source": [
    "some_data = crop.loc[:, ~crop.columns.isin(['Crop', 'State'])].iloc[:5]"
   ]
  },
  {
   "cell_type": "code",
   "execution_count": 27,
   "id": "5c19c0ef",
   "metadata": {},
   "outputs": [],
   "source": [
    "some_labels = crop_labels.iloc[:5]"
   ]
  },
  {
   "cell_type": "code",
   "execution_count": 28,
   "id": "3193044e",
   "metadata": {},
   "outputs": [],
   "source": [
    "prepared_data = my_pipeline.transform(some_data)"
   ]
  },
  {
   "cell_type": "code",
   "execution_count": 29,
   "id": "7a66feb4",
   "metadata": {},
   "outputs": [
    {
     "data": {
      "text/plain": [
       "array([2143.01855549, 1861.910508  ,  713.84931598, 2328.53558855,\n",
       "       1873.66518443])"
      ]
     },
     "execution_count": 29,
     "metadata": {},
     "output_type": "execute_result"
    }
   ],
   "source": [
    "model.predict(prepared_data)"
   ]
  },
  {
   "cell_type": "code",
   "execution_count": 30,
   "id": "41790b78",
   "metadata": {},
   "outputs": [
    {
     "data": {
      "text/plain": [
       "[658.77, 2228.97, 669.86, 3484.01, 2554.91]"
      ]
     },
     "execution_count": 30,
     "metadata": {},
     "output_type": "execute_result"
    }
   ],
   "source": [
    "list(some_labels)\n"
   ]
  },
  {
   "cell_type": "code",
   "execution_count": 31,
   "id": "af9efd31",
   "metadata": {},
   "outputs": [],
   "source": [
    "from sklearn.metrics import mean_squared_error\n",
    "crop_prediction =model.predict(crop_num_tr)\n",
    "lin_mse = mean_squared_error(crop_labels ,crop_prediction)\n",
    "lin_rmse = np.sqrt(lin_mse)"
   ]
  },
  {
   "cell_type": "code",
   "execution_count": 32,
   "id": "f79a4c4e",
   "metadata": {},
   "outputs": [
    {
     "data": {
      "text/plain": [
       "826625.4435781209"
      ]
     },
     "execution_count": 32,
     "metadata": {},
     "output_type": "execute_result"
    }
   ],
   "source": [
    "lin_mse"
   ]
  },
  {
   "cell_type": "code",
   "execution_count": 33,
   "id": "4d4f3356",
   "metadata": {},
   "outputs": [],
   "source": [
    "from sklearn.model_selection import cross_val_score\n",
    "scores = cross_val_score(model,crop_num_tr ,crop_labels,scoring=\"neg_mean_squared_error\" ,cv=10)\n",
    "ramse_scores = np.sqrt(-scores)\n"
   ]
  },
  {
   "cell_type": "code",
   "execution_count": 34,
   "id": "b2abe676",
   "metadata": {},
   "outputs": [
    {
     "data": {
      "text/plain": [
       "array([ 960.32074333, 2004.51350009,  729.2500997 ,  699.39177368,\n",
       "        713.75560801,  572.31067218, 1164.55912961,  605.24782166,\n",
       "        732.20395248,  409.00684244])"
      ]
     },
     "execution_count": 34,
     "metadata": {},
     "output_type": "execute_result"
    }
   ],
   "source": [
    "ramse_scores"
   ]
  },
  {
   "cell_type": "markdown",
   "id": "0ddf68c6",
   "metadata": {},
   "source": [
    "#### Decisiontree model"
   ]
  },
  {
   "cell_type": "code",
   "execution_count": 35,
   "id": "114067d2",
   "metadata": {},
   "outputs": [
    {
     "data": {
      "text/html": [
       "<style>#sk-container-id-3 {color: black;background-color: white;}#sk-container-id-3 pre{padding: 0;}#sk-container-id-3 div.sk-toggleable {background-color: white;}#sk-container-id-3 label.sk-toggleable__label {cursor: pointer;display: block;width: 100%;margin-bottom: 0;padding: 0.3em;box-sizing: border-box;text-align: center;}#sk-container-id-3 label.sk-toggleable__label-arrow:before {content: \"▸\";float: left;margin-right: 0.25em;color: #696969;}#sk-container-id-3 label.sk-toggleable__label-arrow:hover:before {color: black;}#sk-container-id-3 div.sk-estimator:hover label.sk-toggleable__label-arrow:before {color: black;}#sk-container-id-3 div.sk-toggleable__content {max-height: 0;max-width: 0;overflow: hidden;text-align: left;background-color: #f0f8ff;}#sk-container-id-3 div.sk-toggleable__content pre {margin: 0.2em;color: black;border-radius: 0.25em;background-color: #f0f8ff;}#sk-container-id-3 input.sk-toggleable__control:checked~div.sk-toggleable__content {max-height: 200px;max-width: 100%;overflow: auto;}#sk-container-id-3 input.sk-toggleable__control:checked~label.sk-toggleable__label-arrow:before {content: \"▾\";}#sk-container-id-3 div.sk-estimator input.sk-toggleable__control:checked~label.sk-toggleable__label {background-color: #d4ebff;}#sk-container-id-3 div.sk-label input.sk-toggleable__control:checked~label.sk-toggleable__label {background-color: #d4ebff;}#sk-container-id-3 input.sk-hidden--visually {border: 0;clip: rect(1px 1px 1px 1px);clip: rect(1px, 1px, 1px, 1px);height: 1px;margin: -1px;overflow: hidden;padding: 0;position: absolute;width: 1px;}#sk-container-id-3 div.sk-estimator {font-family: monospace;background-color: #f0f8ff;border: 1px dotted black;border-radius: 0.25em;box-sizing: border-box;margin-bottom: 0.5em;}#sk-container-id-3 div.sk-estimator:hover {background-color: #d4ebff;}#sk-container-id-3 div.sk-parallel-item::after {content: \"\";width: 100%;border-bottom: 1px solid gray;flex-grow: 1;}#sk-container-id-3 div.sk-label:hover label.sk-toggleable__label {background-color: #d4ebff;}#sk-container-id-3 div.sk-serial::before {content: \"\";position: absolute;border-left: 1px solid gray;box-sizing: border-box;top: 0;bottom: 0;left: 50%;z-index: 0;}#sk-container-id-3 div.sk-serial {display: flex;flex-direction: column;align-items: center;background-color: white;padding-right: 0.2em;padding-left: 0.2em;position: relative;}#sk-container-id-3 div.sk-item {position: relative;z-index: 1;}#sk-container-id-3 div.sk-parallel {display: flex;align-items: stretch;justify-content: center;background-color: white;position: relative;}#sk-container-id-3 div.sk-item::before, #sk-container-id-3 div.sk-parallel-item::before {content: \"\";position: absolute;border-left: 1px solid gray;box-sizing: border-box;top: 0;bottom: 0;left: 50%;z-index: -1;}#sk-container-id-3 div.sk-parallel-item {display: flex;flex-direction: column;z-index: 1;position: relative;background-color: white;}#sk-container-id-3 div.sk-parallel-item:first-child::after {align-self: flex-end;width: 50%;}#sk-container-id-3 div.sk-parallel-item:last-child::after {align-self: flex-start;width: 50%;}#sk-container-id-3 div.sk-parallel-item:only-child::after {width: 0;}#sk-container-id-3 div.sk-dashed-wrapped {border: 1px dashed gray;margin: 0 0.4em 0.5em 0.4em;box-sizing: border-box;padding-bottom: 0.4em;background-color: white;}#sk-container-id-3 div.sk-label label {font-family: monospace;font-weight: bold;display: inline-block;line-height: 1.2em;}#sk-container-id-3 div.sk-label-container {text-align: center;}#sk-container-id-3 div.sk-container {/* jupyter's `normalize.less` sets `[hidden] { display: none; }` but bootstrap.min.css set `[hidden] { display: none !important; }` so we also need the `!important` here to be able to override the default hidden behavior on the sphinx rendered scikit-learn.org. See: https://github.com/scikit-learn/scikit-learn/issues/21755 */display: inline-block !important;position: relative;}#sk-container-id-3 div.sk-text-repr-fallback {display: none;}</style><div id=\"sk-container-id-3\" class=\"sk-top-container\"><div class=\"sk-text-repr-fallback\"><pre>DecisionTreeRegressor()</pre><b>In a Jupyter environment, please rerun this cell to show the HTML representation or trust the notebook. <br />On GitHub, the HTML representation is unable to render, please try loading this page with nbviewer.org.</b></div><div class=\"sk-container\" hidden><div class=\"sk-item\"><div class=\"sk-estimator sk-toggleable\"><input class=\"sk-toggleable__control sk-hidden--visually\" id=\"sk-estimator-id-3\" type=\"checkbox\" checked><label for=\"sk-estimator-id-3\" class=\"sk-toggleable__label sk-toggleable__label-arrow\">DecisionTreeRegressor</label><div class=\"sk-toggleable__content\"><pre>DecisionTreeRegressor()</pre></div></div></div></div></div>"
      ],
      "text/plain": [
       "DecisionTreeRegressor()"
      ]
     },
     "execution_count": 35,
     "metadata": {},
     "output_type": "execute_result"
    }
   ],
   "source": [
    "from sklearn.tree import DecisionTreeRegressor\n",
    "model = DecisionTreeRegressor()\n",
    "model.fit(crop_num_tr ,crop_labels)"
   ]
  },
  {
   "cell_type": "code",
   "execution_count": 36,
   "id": "6ee4c7a5",
   "metadata": {},
   "outputs": [],
   "source": [
    "some_data = crop.loc[:, ~crop.columns.isin(['Crop', 'State'])].iloc[:5]"
   ]
  },
  {
   "cell_type": "code",
   "execution_count": 37,
   "id": "6b012442",
   "metadata": {},
   "outputs": [],
   "source": [
    "some_labels = crop_labels.iloc[:5]"
   ]
  },
  {
   "cell_type": "code",
   "execution_count": 38,
   "id": "f280670f",
   "metadata": {},
   "outputs": [],
   "source": [
    "prepared_data = my_pipeline.transform(some_data)"
   ]
  },
  {
   "cell_type": "code",
   "execution_count": 39,
   "id": "33df2535",
   "metadata": {},
   "outputs": [
    {
     "data": {
      "text/plain": [
       "array([ 658.77, 2228.97,  669.86, 3484.01, 2554.91])"
      ]
     },
     "execution_count": 39,
     "metadata": {},
     "output_type": "execute_result"
    }
   ],
   "source": [
    "model.predict(prepared_data)"
   ]
  },
  {
   "cell_type": "code",
   "execution_count": 40,
   "id": "64701dba",
   "metadata": {},
   "outputs": [
    {
     "data": {
      "text/plain": [
       "[658.77, 2228.97, 669.86, 3484.01, 2554.91]"
      ]
     },
     "execution_count": 40,
     "metadata": {},
     "output_type": "execute_result"
    }
   ],
   "source": [
    "list(some_labels)\n"
   ]
  },
  {
   "cell_type": "code",
   "execution_count": 41,
   "id": "d58abbc4",
   "metadata": {},
   "outputs": [],
   "source": [
    "from sklearn.metrics import mean_squared_error\n",
    "crop_prediction =model.predict(crop_num_tr)\n",
    "lin_mse = mean_squared_error(crop_labels ,crop_prediction)\n",
    "lin_rmse = np.sqrt(lin_mse)"
   ]
  },
  {
   "cell_type": "code",
   "execution_count": 42,
   "id": "809c69f0",
   "metadata": {},
   "outputs": [
    {
     "data": {
      "text/plain": [
       "0.0"
      ]
     },
     "execution_count": 42,
     "metadata": {},
     "output_type": "execute_result"
    }
   ],
   "source": [
    "lin_mse"
   ]
  },
  {
   "cell_type": "markdown",
   "id": "2f6a8bb7",
   "metadata": {},
   "source": [
    "### Evaluating the model"
   ]
  },
  {
   "cell_type": "markdown",
   "id": "e33115d8",
   "metadata": {},
   "source": [
    "#### Cross validation"
   ]
  },
  {
   "cell_type": "code",
   "execution_count": 43,
   "id": "4be39904",
   "metadata": {},
   "outputs": [],
   "source": [
    "from sklearn.model_selection import cross_val_score\n",
    "scores = cross_val_score(model,crop_num_tr ,crop_labels,scoring=\"neg_mean_squared_error\" ,cv=10)\n",
    "rmse_scores = np.sqrt(-scores)\n"
   ]
  },
  {
   "cell_type": "code",
   "execution_count": 44,
   "id": "ecbb4e07",
   "metadata": {},
   "outputs": [
    {
     "data": {
      "text/plain": [
       "array([ 890.00932078, 1859.14540162,  660.98775234,  337.46151329,\n",
       "       1856.80624102,  851.74312156,  465.1032387 ,  406.18070612,\n",
       "        707.91941648,   66.65891888])"
      ]
     },
     "execution_count": 44,
     "metadata": {},
     "output_type": "execute_result"
    }
   ],
   "source": [
    "rmse_scores"
   ]
  },
  {
   "cell_type": "code",
   "execution_count": 45,
   "id": "45aae37e",
   "metadata": {},
   "outputs": [],
   "source": [
    "def print_scores(scores):\n",
    "    print(\"scores:\" , scores)\n",
    "    print(\"Mean:\", scores.mean())\n",
    "    print(\"standard Deviation:\" , scores.std())"
   ]
  },
  {
   "cell_type": "code",
   "execution_count": 46,
   "id": "fcb9f877",
   "metadata": {},
   "outputs": [
    {
     "name": "stdout",
     "output_type": "stream",
     "text": [
      "scores: [ 890.00932078 1859.14540162  660.98775234  337.46151329 1856.80624102\n",
      "  851.74312156  465.1032387   406.18070612  707.91941648   66.65891888]\n",
      "Mean: 810.2015630792382\n",
      "standard Deviation: 574.0340086751185\n"
     ]
    }
   ],
   "source": [
    "print_scores(rmse_scores)"
   ]
  },
  {
   "cell_type": "code",
   "execution_count": 47,
   "id": "00ef81ce",
   "metadata": {},
   "outputs": [
    {
     "name": "stdout",
     "output_type": "stream",
     "text": [
      "scores: [ 960.32074333 2004.51350009  729.2500997   699.39177368  713.75560801\n",
      "  572.31067218 1164.55912961  605.24782166  732.20395248  409.00684244]\n",
      "Mean: 859.0560143184551\n",
      "standard Deviation: 429.46375823768847\n"
     ]
    }
   ],
   "source": [
    "print_scores(ramse_scores)"
   ]
  },
  {
   "cell_type": "markdown",
   "id": "46bbb4b8",
   "metadata": {},
   "source": [
    "# Random forest regressor"
   ]
  },
  {
   "cell_type": "code",
   "execution_count": 48,
   "id": "8c760806",
   "metadata": {},
   "outputs": [
    {
     "data": {
      "text/html": [
       "<style>#sk-container-id-4 {color: black;background-color: white;}#sk-container-id-4 pre{padding: 0;}#sk-container-id-4 div.sk-toggleable {background-color: white;}#sk-container-id-4 label.sk-toggleable__label {cursor: pointer;display: block;width: 100%;margin-bottom: 0;padding: 0.3em;box-sizing: border-box;text-align: center;}#sk-container-id-4 label.sk-toggleable__label-arrow:before {content: \"▸\";float: left;margin-right: 0.25em;color: #696969;}#sk-container-id-4 label.sk-toggleable__label-arrow:hover:before {color: black;}#sk-container-id-4 div.sk-estimator:hover label.sk-toggleable__label-arrow:before {color: black;}#sk-container-id-4 div.sk-toggleable__content {max-height: 0;max-width: 0;overflow: hidden;text-align: left;background-color: #f0f8ff;}#sk-container-id-4 div.sk-toggleable__content pre {margin: 0.2em;color: black;border-radius: 0.25em;background-color: #f0f8ff;}#sk-container-id-4 input.sk-toggleable__control:checked~div.sk-toggleable__content {max-height: 200px;max-width: 100%;overflow: auto;}#sk-container-id-4 input.sk-toggleable__control:checked~label.sk-toggleable__label-arrow:before {content: \"▾\";}#sk-container-id-4 div.sk-estimator input.sk-toggleable__control:checked~label.sk-toggleable__label {background-color: #d4ebff;}#sk-container-id-4 div.sk-label input.sk-toggleable__control:checked~label.sk-toggleable__label {background-color: #d4ebff;}#sk-container-id-4 input.sk-hidden--visually {border: 0;clip: rect(1px 1px 1px 1px);clip: rect(1px, 1px, 1px, 1px);height: 1px;margin: -1px;overflow: hidden;padding: 0;position: absolute;width: 1px;}#sk-container-id-4 div.sk-estimator {font-family: monospace;background-color: #f0f8ff;border: 1px dotted black;border-radius: 0.25em;box-sizing: border-box;margin-bottom: 0.5em;}#sk-container-id-4 div.sk-estimator:hover {background-color: #d4ebff;}#sk-container-id-4 div.sk-parallel-item::after {content: \"\";width: 100%;border-bottom: 1px solid gray;flex-grow: 1;}#sk-container-id-4 div.sk-label:hover label.sk-toggleable__label {background-color: #d4ebff;}#sk-container-id-4 div.sk-serial::before {content: \"\";position: absolute;border-left: 1px solid gray;box-sizing: border-box;top: 0;bottom: 0;left: 50%;z-index: 0;}#sk-container-id-4 div.sk-serial {display: flex;flex-direction: column;align-items: center;background-color: white;padding-right: 0.2em;padding-left: 0.2em;position: relative;}#sk-container-id-4 div.sk-item {position: relative;z-index: 1;}#sk-container-id-4 div.sk-parallel {display: flex;align-items: stretch;justify-content: center;background-color: white;position: relative;}#sk-container-id-4 div.sk-item::before, #sk-container-id-4 div.sk-parallel-item::before {content: \"\";position: absolute;border-left: 1px solid gray;box-sizing: border-box;top: 0;bottom: 0;left: 50%;z-index: -1;}#sk-container-id-4 div.sk-parallel-item {display: flex;flex-direction: column;z-index: 1;position: relative;background-color: white;}#sk-container-id-4 div.sk-parallel-item:first-child::after {align-self: flex-end;width: 50%;}#sk-container-id-4 div.sk-parallel-item:last-child::after {align-self: flex-start;width: 50%;}#sk-container-id-4 div.sk-parallel-item:only-child::after {width: 0;}#sk-container-id-4 div.sk-dashed-wrapped {border: 1px dashed gray;margin: 0 0.4em 0.5em 0.4em;box-sizing: border-box;padding-bottom: 0.4em;background-color: white;}#sk-container-id-4 div.sk-label label {font-family: monospace;font-weight: bold;display: inline-block;line-height: 1.2em;}#sk-container-id-4 div.sk-label-container {text-align: center;}#sk-container-id-4 div.sk-container {/* jupyter's `normalize.less` sets `[hidden] { display: none; }` but bootstrap.min.css set `[hidden] { display: none !important; }` so we also need the `!important` here to be able to override the default hidden behavior on the sphinx rendered scikit-learn.org. See: https://github.com/scikit-learn/scikit-learn/issues/21755 */display: inline-block !important;position: relative;}#sk-container-id-4 div.sk-text-repr-fallback {display: none;}</style><div id=\"sk-container-id-4\" class=\"sk-top-container\"><div class=\"sk-text-repr-fallback\"><pre>RandomForestRegressor()</pre><b>In a Jupyter environment, please rerun this cell to show the HTML representation or trust the notebook. <br />On GitHub, the HTML representation is unable to render, please try loading this page with nbviewer.org.</b></div><div class=\"sk-container\" hidden><div class=\"sk-item\"><div class=\"sk-estimator sk-toggleable\"><input class=\"sk-toggleable__control sk-hidden--visually\" id=\"sk-estimator-id-4\" type=\"checkbox\" checked><label for=\"sk-estimator-id-4\" class=\"sk-toggleable__label sk-toggleable__label-arrow\">RandomForestRegressor</label><div class=\"sk-toggleable__content\"><pre>RandomForestRegressor()</pre></div></div></div></div></div>"
      ],
      "text/plain": [
       "RandomForestRegressor()"
      ]
     },
     "execution_count": 48,
     "metadata": {},
     "output_type": "execute_result"
    }
   ],
   "source": [
    "from sklearn.ensemble import RandomForestRegressor\n",
    "model= RandomForestRegressor()\n",
    "model.fit(crop_num_tr ,crop_labels)\n"
   ]
  },
  {
   "cell_type": "code",
   "execution_count": 49,
   "id": "786e64f3",
   "metadata": {},
   "outputs": [],
   "source": [
    "some_data = crop.loc[:, ~crop.columns.isin(['Crop', 'State'])].iloc[:5]"
   ]
  },
  {
   "cell_type": "code",
   "execution_count": 50,
   "id": "316ddd32",
   "metadata": {},
   "outputs": [],
   "source": [
    "some_labels = crop_labels.iloc[:5]"
   ]
  },
  {
   "cell_type": "code",
   "execution_count": 51,
   "id": "7a42125b",
   "metadata": {},
   "outputs": [],
   "source": [
    "prepared_data = my_pipeline.transform(some_data)"
   ]
  },
  {
   "cell_type": "code",
   "execution_count": 52,
   "id": "8ef23401",
   "metadata": {},
   "outputs": [
    {
     "data": {
      "text/plain": [
       "array([1002.3449, 2272.6596,  664.0493, 3006.5429, 2507.4983])"
      ]
     },
     "execution_count": 52,
     "metadata": {},
     "output_type": "execute_result"
    }
   ],
   "source": [
    "model.predict(prepared_data)"
   ]
  },
  {
   "cell_type": "code",
   "execution_count": 53,
   "id": "2bf13dd5",
   "metadata": {},
   "outputs": [
    {
     "data": {
      "text/plain": [
       "[658.77, 2228.97, 669.86, 3484.01, 2554.91]"
      ]
     },
     "execution_count": 53,
     "metadata": {},
     "output_type": "execute_result"
    }
   ],
   "source": [
    "list(some_labels)\n"
   ]
  },
  {
   "cell_type": "code",
   "execution_count": 54,
   "id": "2e425453",
   "metadata": {},
   "outputs": [],
   "source": [
    "from sklearn.metrics import mean_squared_error\n",
    "crop_prediction =model.predict(crop_num_tr)\n",
    "lin_mse = mean_squared_error(crop_labels ,crop_prediction)\n",
    "lin_rmse = np.sqrt(lin_mse)"
   ]
  },
  {
   "cell_type": "code",
   "execution_count": 55,
   "id": "ba8d3841",
   "metadata": {},
   "outputs": [
    {
     "data": {
      "text/plain": [
       "117670.66840347354"
      ]
     },
     "execution_count": 55,
     "metadata": {},
     "output_type": "execute_result"
    }
   ],
   "source": [
    "lin_mse"
   ]
  },
  {
   "cell_type": "code",
   "execution_count": 58,
   "id": "c2330377",
   "metadata": {},
   "outputs": [],
   "source": [
    "from sklearn.model_selection import cross_val_score\n",
    "scores = cross_val_score(model,crop_num_tr ,crop_labels,scoring=\"neg_mean_squared_error\" ,cv=10)\n",
    "ranmse_scores = np.sqrt(-scores)"
   ]
  },
  {
   "cell_type": "code",
   "execution_count": 59,
   "id": "5e599e06",
   "metadata": {},
   "outputs": [
    {
     "data": {
      "text/plain": [
       "array([ 631.17158389, 1770.58336752,  282.79401725,  387.25929633,\n",
       "        985.83575513,  256.87868259,  650.22856527,  345.33754915,\n",
       "        584.32582165,  146.25615463])"
      ]
     },
     "execution_count": 59,
     "metadata": {},
     "output_type": "execute_result"
    }
   ],
   "source": [
    "ranmse_scores"
   ]
  },
  {
   "cell_type": "code",
   "execution_count": 60,
   "id": "ba5eb904",
   "metadata": {},
   "outputs": [],
   "source": [
    "def print_scores(scores):\n",
    "    print(\"scores:\" , scores)\n",
    "    print(\"Mean:\", scores.mean())\n",
    "    print(\"standard Deviation:\" , scores.std())"
   ]
  },
  {
   "cell_type": "code",
   "execution_count": 61,
   "id": "f7cd12be",
   "metadata": {},
   "outputs": [
    {
     "name": "stdout",
     "output_type": "stream",
     "text": [
      "scores: [ 631.17158389 1770.58336752  282.79401725  387.25929633  985.83575513\n",
      "  256.87868259  650.22856527  345.33754915  584.32582165  146.25615463]\n",
      "Mean: 604.0670793416288\n",
      "standard Deviation: 453.54783840450165\n"
     ]
    }
   ],
   "source": [
    "print_scores(ranmse_scores)"
   ]
  },
  {
   "cell_type": "code",
   "execution_count": null,
   "id": "a00f8379",
   "metadata": {},
   "outputs": [],
   "source": []
  }
 ],
 "metadata": {
  "kernelspec": {
   "display_name": "Python 3 (ipykernel)",
   "language": "python",
   "name": "python3"
  },
  "language_info": {
   "codemirror_mode": {
    "name": "ipython",
    "version": 3
   },
   "file_extension": ".py",
   "mimetype": "text/x-python",
   "name": "python",
   "nbconvert_exporter": "python",
   "pygments_lexer": "ipython3",
   "version": "3.10.2"
  }
 },
 "nbformat": 4,
 "nbformat_minor": 5
}
