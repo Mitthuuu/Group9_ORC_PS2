{
 "cells": [
  {
   "cell_type": "code",
   "execution_count": 1,
   "id": "ed97cf4f",
   "metadata": {},
   "outputs": [],
   "source": [
    "from joblib import dump , load\n",
    "import numpy as np\n",
    "model = load('Cost.joblib')"
   ]
  },
  {
   "cell_type": "code",
   "execution_count": 2,
   "id": "14120f55",
   "metadata": {},
   "outputs": [
    {
     "data": {
      "text/plain": [
       "array([856.3742])"
      ]
     },
     "execution_count": 2,
     "metadata": {},
     "output_type": "execute_result"
    }
   ],
   "source": [
    "input = np.array([\n",
    "    [-0.20701356,  0.88128065, -0.46056913, -0.58346255, -0.35440995]\n",
    "])\n",
    "model.predict(input)"
   ]
  },
  {
   "cell_type": "code",
   "execution_count": null,
   "id": "660ff89b",
   "metadata": {},
   "outputs": [],
   "source": []
  }
 ],
 "metadata": {
  "kernelspec": {
   "display_name": "Python 3 (ipykernel)",
   "language": "python",
   "name": "python3"
  },
  "language_info": {
   "codemirror_mode": {
    "name": "ipython",
    "version": 3
   },
   "file_extension": ".py",
   "mimetype": "text/x-python",
   "name": "python",
   "nbconvert_exporter": "python",
   "pygments_lexer": "ipython3",
   "version": "3.10.2"
  }
 },
 "nbformat": 4,
 "nbformat_minor": 5
}
