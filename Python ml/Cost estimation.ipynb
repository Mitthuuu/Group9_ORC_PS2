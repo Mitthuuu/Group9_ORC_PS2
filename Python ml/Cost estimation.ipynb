{
 "cells": [
  {
   "cell_type": "code",
   "execution_count": 1,
   "id": "ed97cf4f",
   "metadata": {},
   "outputs": [],
   "source": [
    "from joblib import dump , load\n",
    "import numpy as np\n",
    "model = load('Cost.joblib')"
   ]
  },
  {
   "cell_type": "code",
   "execution_count": 2,
   "id": "14120f55",
   "metadata": {},
   "outputs": [
    {
     "data": {
      "text/plain": [
       "array([1015.2378])"
      ]
     },
     "execution_count": 2,
     "metadata": {},
     "output_type": "execute_result"
    }
   ],
   "source": [
    "input = np.array([\n",
    "    [-0.20701356,  0.88128065, -0.46056913, -0.58346255, -0.35440995]\n",
    "])\n",
    "model.predict(input)"
   ]
  },
  {
   "cell_type": "code",
   "execution_count": 2,
   "id": "9543df8e",
   "metadata": {},
   "outputs": [
    {
     "name": "stdout",
     "output_type": "stream",
     "text": [
      "{'result': 55}\n",
      "Sum of Array from Node.js: 55\n"
     ]
    }
   ],
   "source": [
    "import requests\n",
    "\n",
    "# Sample array\n",
    "array = [1,2,3,4,5,6,7,8,9,10]\n",
    "\n",
    "# Data that we will send in post request.\n",
    "data = {'array':array}\n",
    "\n",
    "# The POST request to our node server\n",
    "res = requests.post('http://127.0.0.1:3000/arraysum', json=data)\n",
    "\n",
    "# Convert response data to json\n",
    "returned_data = res.json()\n",
    "\n",
    "print(returned_data)\n",
    "result = returned_data['result']\n",
    "print(\"Sum of Array from Node.js:\", result)\n"
   ]
  },
  {
   "cell_type": "code",
   "execution_count": null,
   "id": "aebc81e8",
   "metadata": {},
   "outputs": [],
   "source": []
  }
 ],
 "metadata": {
  "kernelspec": {
   "display_name": "Python 3 (ipykernel)",
   "language": "python",
   "name": "python3"
  },
  "language_info": {
   "codemirror_mode": {
    "name": "ipython",
    "version": 3
   },
   "file_extension": ".py",
   "mimetype": "text/x-python",
   "name": "python",
   "nbconvert_exporter": "python",
   "pygments_lexer": "ipython3",
   "version": "3.10.2"
  }
 },
 "nbformat": 4,
 "nbformat_minor": 5
}
