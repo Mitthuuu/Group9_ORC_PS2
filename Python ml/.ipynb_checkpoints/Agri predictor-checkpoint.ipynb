{
 "cells": [
  {
   "cell_type": "code",
   "execution_count": 1,
   "id": "2f86fe1b",
   "metadata": {},
   "outputs": [],
   "source": [
    "import pandas as pd\n"
   ]
  },
  {
   "cell_type": "code",
   "execution_count": 2,
   "id": "acdc9780",
   "metadata": {},
   "outputs": [
    {
     "data": {
      "text/html": [
       "<div>\n",
       "<style scoped>\n",
       "    .dataframe tbody tr th:only-of-type {\n",
       "        vertical-align: middle;\n",
       "    }\n",
       "\n",
       "    .dataframe tbody tr th {\n",
       "        vertical-align: top;\n",
       "    }\n",
       "\n",
       "    .dataframe thead th {\n",
       "        text-align: right;\n",
       "    }\n",
       "</style>\n",
       "<table border=\"1\" class=\"dataframe\">\n",
       "  <thead>\n",
       "    <tr style=\"text-align: right;\">\n",
       "      <th></th>\n",
       "      <th>Crop</th>\n",
       "      <th>State</th>\n",
       "      <th>Cost of Cultivation (`/Hectare) A2+FL</th>\n",
       "      <th>Cost of Cultivation (`/Hectare) C2</th>\n",
       "      <th>Cost of Production (`/Quintal) C2</th>\n",
       "      <th>Yield (Quintal/ Hectare)</th>\n",
       "    </tr>\n",
       "  </thead>\n",
       "  <tbody>\n",
       "    <tr>\n",
       "      <th>0</th>\n",
       "      <td>ARHAR</td>\n",
       "      <td>Uttar Pradesh</td>\n",
       "      <td>9794.05</td>\n",
       "      <td>23076.74</td>\n",
       "      <td>1941.55</td>\n",
       "      <td>9.83</td>\n",
       "    </tr>\n",
       "    <tr>\n",
       "      <th>1</th>\n",
       "      <td>ARHAR</td>\n",
       "      <td>Karnataka</td>\n",
       "      <td>10593.15</td>\n",
       "      <td>16528.68</td>\n",
       "      <td>2172.46</td>\n",
       "      <td>7.47</td>\n",
       "    </tr>\n",
       "    <tr>\n",
       "      <th>2</th>\n",
       "      <td>ARHAR</td>\n",
       "      <td>Gujarat</td>\n",
       "      <td>13468.82</td>\n",
       "      <td>19551.90</td>\n",
       "      <td>1898.30</td>\n",
       "      <td>9.59</td>\n",
       "    </tr>\n",
       "    <tr>\n",
       "      <th>3</th>\n",
       "      <td>ARHAR</td>\n",
       "      <td>Andhra Pradesh</td>\n",
       "      <td>17051.66</td>\n",
       "      <td>24171.65</td>\n",
       "      <td>3670.54</td>\n",
       "      <td>6.42</td>\n",
       "    </tr>\n",
       "    <tr>\n",
       "      <th>4</th>\n",
       "      <td>ARHAR</td>\n",
       "      <td>Maharashtra</td>\n",
       "      <td>17130.55</td>\n",
       "      <td>25270.26</td>\n",
       "      <td>2775.80</td>\n",
       "      <td>8.72</td>\n",
       "    </tr>\n",
       "  </tbody>\n",
       "</table>\n",
       "</div>"
      ],
      "text/plain": [
       "    Crop           State  Cost of Cultivation (`/Hectare) A2+FL  \\\n",
       "0  ARHAR   Uttar Pradesh                                9794.05   \n",
       "1  ARHAR       Karnataka                               10593.15   \n",
       "2  ARHAR         Gujarat                               13468.82   \n",
       "3  ARHAR  Andhra Pradesh                               17051.66   \n",
       "4  ARHAR     Maharashtra                               17130.55   \n",
       "\n",
       "   Cost of Cultivation (`/Hectare) C2  Cost of Production (`/Quintal) C2  \\\n",
       "0                            23076.74                            1941.55   \n",
       "1                            16528.68                            2172.46   \n",
       "2                            19551.90                            1898.30   \n",
       "3                            24171.65                            3670.54   \n",
       "4                            25270.26                            2775.80   \n",
       "\n",
       "   Yield (Quintal/ Hectare)   \n",
       "0                       9.83  \n",
       "1                       7.47  \n",
       "2                       9.59  \n",
       "3                       6.42  \n",
       "4                       8.72  "
      ]
     },
     "execution_count": 2,
     "metadata": {},
     "output_type": "execute_result"
    }
   ],
   "source": [
    "crop = pd.read_csv(\"CropData.csv\")\n",
    "crop.head()"
   ]
  },
  {
   "cell_type": "code",
   "execution_count": 3,
   "id": "e3d4452f",
   "metadata": {},
   "outputs": [
    {
     "name": "stdout",
     "output_type": "stream",
     "text": [
      "<class 'pandas.core.frame.DataFrame'>\n",
      "RangeIndex: 49 entries, 0 to 48\n",
      "Data columns (total 6 columns):\n",
      " #   Column                                 Non-Null Count  Dtype  \n",
      "---  ------                                 --------------  -----  \n",
      " 0   Crop                                   49 non-null     object \n",
      " 1   State                                  49 non-null     object \n",
      " 2   Cost of Cultivation (`/Hectare) A2+FL  49 non-null     float64\n",
      " 3   Cost of Cultivation (`/Hectare) C2     49 non-null     float64\n",
      " 4   Cost of Production (`/Quintal) C2      49 non-null     float64\n",
      " 5   Yield (Quintal/ Hectare)               49 non-null     float64\n",
      "dtypes: float64(4), object(2)\n",
      "memory usage: 2.4+ KB\n"
     ]
    }
   ],
   "source": [
    "crop.info()"
   ]
  },
  {
   "cell_type": "code",
   "execution_count": 4,
   "id": "05be353a",
   "metadata": {},
   "outputs": [
    {
     "data": {
      "text/html": [
       "<div>\n",
       "<style scoped>\n",
       "    .dataframe tbody tr th:only-of-type {\n",
       "        vertical-align: middle;\n",
       "    }\n",
       "\n",
       "    .dataframe tbody tr th {\n",
       "        vertical-align: top;\n",
       "    }\n",
       "\n",
       "    .dataframe thead th {\n",
       "        text-align: right;\n",
       "    }\n",
       "</style>\n",
       "<table border=\"1\" class=\"dataframe\">\n",
       "  <thead>\n",
       "    <tr style=\"text-align: right;\">\n",
       "      <th></th>\n",
       "      <th>Cost of Cultivation (`/Hectare) A2+FL</th>\n",
       "      <th>Cost of Cultivation (`/Hectare) C2</th>\n",
       "      <th>Cost of Production (`/Quintal) C2</th>\n",
       "      <th>Yield (Quintal/ Hectare)</th>\n",
       "    </tr>\n",
       "  </thead>\n",
       "  <tbody>\n",
       "    <tr>\n",
       "      <th>count</th>\n",
       "      <td>49.000000</td>\n",
       "      <td>49.000000</td>\n",
       "      <td>49.000000</td>\n",
       "      <td>49.000000</td>\n",
       "    </tr>\n",
       "    <tr>\n",
       "      <th>mean</th>\n",
       "      <td>20363.537347</td>\n",
       "      <td>31364.666735</td>\n",
       "      <td>1620.537755</td>\n",
       "      <td>98.086735</td>\n",
       "    </tr>\n",
       "    <tr>\n",
       "      <th>std</th>\n",
       "      <td>13561.435306</td>\n",
       "      <td>20095.783569</td>\n",
       "      <td>1104.990472</td>\n",
       "      <td>245.293123</td>\n",
       "    </tr>\n",
       "    <tr>\n",
       "      <th>min</th>\n",
       "      <td>5483.540000</td>\n",
       "      <td>7868.640000</td>\n",
       "      <td>85.790000</td>\n",
       "      <td>1.320000</td>\n",
       "    </tr>\n",
       "    <tr>\n",
       "      <th>25%</th>\n",
       "      <td>12774.410000</td>\n",
       "      <td>19259.840000</td>\n",
       "      <td>732.620000</td>\n",
       "      <td>9.590000</td>\n",
       "    </tr>\n",
       "    <tr>\n",
       "      <th>50%</th>\n",
       "      <td>17022.000000</td>\n",
       "      <td>25909.050000</td>\n",
       "      <td>1595.560000</td>\n",
       "      <td>13.700000</td>\n",
       "    </tr>\n",
       "    <tr>\n",
       "      <th>75%</th>\n",
       "      <td>24731.060000</td>\n",
       "      <td>35423.480000</td>\n",
       "      <td>2228.970000</td>\n",
       "      <td>36.610000</td>\n",
       "    </tr>\n",
       "    <tr>\n",
       "      <th>max</th>\n",
       "      <td>66335.060000</td>\n",
       "      <td>91442.630000</td>\n",
       "      <td>5777.480000</td>\n",
       "      <td>1015.450000</td>\n",
       "    </tr>\n",
       "  </tbody>\n",
       "</table>\n",
       "</div>"
      ],
      "text/plain": [
       "       Cost of Cultivation (`/Hectare) A2+FL  \\\n",
       "count                              49.000000   \n",
       "mean                            20363.537347   \n",
       "std                             13561.435306   \n",
       "min                              5483.540000   \n",
       "25%                             12774.410000   \n",
       "50%                             17022.000000   \n",
       "75%                             24731.060000   \n",
       "max                             66335.060000   \n",
       "\n",
       "       Cost of Cultivation (`/Hectare) C2  Cost of Production (`/Quintal) C2  \\\n",
       "count                           49.000000                          49.000000   \n",
       "mean                         31364.666735                        1620.537755   \n",
       "std                          20095.783569                        1104.990472   \n",
       "min                           7868.640000                          85.790000   \n",
       "25%                          19259.840000                         732.620000   \n",
       "50%                          25909.050000                        1595.560000   \n",
       "75%                          35423.480000                        2228.970000   \n",
       "max                          91442.630000                        5777.480000   \n",
       "\n",
       "       Yield (Quintal/ Hectare)   \n",
       "count                  49.000000  \n",
       "mean                   98.086735  \n",
       "std                   245.293123  \n",
       "min                     1.320000  \n",
       "25%                     9.590000  \n",
       "50%                    13.700000  \n",
       "75%                    36.610000  \n",
       "max                  1015.450000  "
      ]
     },
     "execution_count": 4,
     "metadata": {},
     "output_type": "execute_result"
    }
   ],
   "source": [
    "crop.describe()"
   ]
  },
  {
   "cell_type": "code",
   "execution_count": 5,
   "id": "9bc308dc",
   "metadata": {},
   "outputs": [],
   "source": [
    "%matplotlib inline"
   ]
  },
  {
   "cell_type": "code",
   "execution_count": 6,
   "id": "7f059e4f",
   "metadata": {},
   "outputs": [],
   "source": [
    "import matplotlib as plt"
   ]
  },
  {
   "cell_type": "code",
   "execution_count": 7,
   "id": "ad4cf992",
   "metadata": {},
   "outputs": [
    {
     "data": {
      "text/plain": [
       "array([[<AxesSubplot: title={'center': 'Cost of Cultivation (`/Hectare) A2+FL'}>,\n",
       "        <AxesSubplot: title={'center': 'Cost of Cultivation (`/Hectare) C2'}>],\n",
       "       [<AxesSubplot: title={'center': 'Cost of Production (`/Quintal) C2'}>,\n",
       "        <AxesSubplot: title={'center': 'Yield (Quintal/ Hectare) '}>]],\n",
       "      dtype=object)"
      ]
     },
     "execution_count": 7,
     "metadata": {},
     "output_type": "execute_result"
    },
    {
     "data": {
      "image/png": "[encoded data removed]",
      "text/plain": [
       "<Figure size 2000x1500 with 4 Axes>"
      ]
     },
     "metadata": {},
     "output_type": "display_data"
    }
   ],
   "source": [
    "crop.hist(bins=50 ,figsize=(20,15))"
   ]
  },
  {
   "cell_type": "code",
   "execution_count": 8,
   "id": "5a44e3f4",
   "metadata": {},
   "outputs": [],
   "source": [
    "import numpy as np"
   ]
  },
  {
   "cell_type": "code",
   "execution_count": 18,
   "id": "1c11e4cd",
   "metadata": {},
   "outputs": [
    {
     "name": "stdout",
     "output_type": "stream",
     "text": [
      "Rows in test set:10\n",
      "Rows in train set: 39\n",
      "\n"
     ]
    }
   ],
   "source": [
    "from sklearn.model_selection import train_test_split\n",
    "train_set ,test_set = train_test_split(crop , test_size = 0.2 , random_state = 42)\n",
    "print(f\"Rows in test set:{len(test_set)}\\nRows in train set: {len(train_set)}\\n\")"
   ]
  },
  {
   "cell_type": "code",
   "execution_count": 33,
   "id": "e9b2c706",
   "metadata": {},
   "outputs": [],
   "source": [
    "from sklearn.model_selection import ShuffleSplit\n",
    "split = ShuffleSplit(n_splits =1 ,test_size = 0.2, random_state = 4)\n",
    "for train_index ,test_index in split.split(crop, crop['Cost of Cultivation (`/Hectare) A2+FL']):\n",
    "    strat_train_set = crop.loc[train_index]\n",
    "    strat_test_set = crop.loc[test_index]"
   ]
  },
  {
   "cell_type": "code",
   "execution_count": 32,
   "id": "e03dce71",
   "metadata": {},
   "outputs": [
    {
     "data": {
      "text/plain": [
       "1941.55    1\n",
       "2614.14    1\n",
       "5777.48    1\n",
       "2228.97    1\n",
       "2261.24    1\n",
       "732.62     1\n",
       "715.04     1\n",
       "731.25     1\n",
       "669.86     1\n",
       "789.90     1\n",
       "1279.60    1\n",
       "1341.29    1\n",
       "1595.56    1\n",
       "1610.40    1\n",
       "1251.12    1\n",
       "93.64      1\n",
       "86.53      1\n",
       "119.72     1\n",
       "107.56     1\n",
       "85.79      1\n",
       "810.25     1\n",
       "804.80     1\n",
       "769.84     1\n",
       "2068.67    1\n",
       "840.58     1\n",
       "2172.46    1\n",
       "1387.36    1\n",
       "1898.30    1\n",
       "3670.54    1\n",
       "2775.80    1\n",
       "2539.47    1\n",
       "2003.76    1\n",
       "2509.99    1\n",
       "2179.26    1\n",
       "2127.35    1\n",
       "1691.66    1\n",
       "1551.94    1\n",
       "1882.68    1\n",
       "2277.68    1\n",
       "1559.04    1\n",
       "3484.01    1\n",
       "2554.91    1\n",
       "2358.00    1\n",
       "1918.92    1\n",
       "3207.35    1\n",
       "404.43     1\n",
       "581.69     1\n",
       "658.77     1\n",
       "683.58     1\n",
       "Name: Cost of Production (`/Quintal) C2, dtype: int64"
      ]
     },
     "execution_count": 32,
     "metadata": {},
     "output_type": "execute_result"
    }
   ],
   "source": []
  },
  {
   "cell_type": "code",
   "execution_count": null,
   "id": "75b723b2",
   "metadata": {},
   "outputs": [],
   "source": []
  }
 ],
 "metadata": {
  "kernelspec": {
   "display_name": "Python 3 (ipykernel)",
   "language": "python",
   "name": "python3"
  },
  "language_info": {
   "codemirror_mode": {
    "name": "ipython",
    "version": 3
   },
   "file_extension": ".py",
   "mimetype": "text/x-python",
   "name": "python",
   "nbconvert_exporter": "python",
   "pygments_lexer": "ipython3",
   "version": "3.10.2"
  }
 },
 "nbformat": 4,
 "nbformat_minor": 5
}
