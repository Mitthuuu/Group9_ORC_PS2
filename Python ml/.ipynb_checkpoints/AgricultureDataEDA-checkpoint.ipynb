{
 "cells": [
  {
   "cell_type": "code",
   "execution_count": 1,
   "id": "42fd3470",
   "metadata": {},
   "outputs": [],
   "source": [
    "import pandas as pd"
   ]
  },
  {
   "cell_type": "code",
   "execution_count": 2,
   "id": "e2ce8e23",
   "metadata": {},
   "outputs": [
    {
     "ename": "ModuleNotFoundError",
     "evalue": "No module named 'seaborn'",
     "output_type": "error",
     "traceback": [
      "\u001b[1;31m---------------------------------------------------------------------------\u001b[0m",
      "\u001b[1;31mModuleNotFoundError\u001b[0m                       Traceback (most recent call last)",
      "Cell \u001b[1;32mIn [2], line 2\u001b[0m\n\u001b[0;32m      1\u001b[0m \u001b[38;5;28;01mimport\u001b[39;00m \u001b[38;5;21;01mmatplotlib\u001b[39;00m\u001b[38;5;21;01m.\u001b[39;00m\u001b[38;5;21;01mpyplot\u001b[39;00m \u001b[38;5;28;01mas\u001b[39;00m \u001b[38;5;21;01mplt\u001b[39;00m\n\u001b[1;32m----> 2\u001b[0m \u001b[38;5;28;01mimport\u001b[39;00m \u001b[38;5;21;01mseaborn\u001b[39;00m \u001b[38;5;28;01mas\u001b[39;00m \u001b[38;5;21;01msns\u001b[39;00m\n",
      "\u001b[1;31mModuleNotFoundError\u001b[0m: No module named 'seaborn'"
     ]
    }
   ],
   "source": [
    "import matplotlib.pyplot as plt\n",
    "import seaborn as sns"
   ]
  },
  {
   "cell_type": "markdown",
   "id": "c6cb339f",
   "metadata": {},
   "source": [
    "# Analysis of Dataset 1"
   ]
  },
  {
   "cell_type": "code",
   "execution_count": null,
   "id": "3096b9ea",
   "metadata": {},
   "outputs": [],
   "source": [
    "data = pd.read_csv(\"datafile (1).csv\")\n",
    "data"
   ]
  },
  {
   "cell_type": "code",
   "execution_count": null,
   "id": "e97ea52d",
   "metadata": {},
   "outputs": [],
   "source": [
    "print(\"Number of rows:\",data.shape[0],\"\\nNumber of columns:\",data.shape[1])"
   ]
  },
  {
   "cell_type": "code",
   "execution_count": null,
   "id": "4e0a25b6",
   "metadata": {},
   "outputs": [],
   "source": [
    "data.head(10)\n",
    "# top 10 rows of dataset"
   ]
  },
  {
   "cell_type": "code",
   "execution_count": null,
   "id": "40d91338",
   "metadata": {},
   "outputs": [],
   "source": [
    "data.tail(5)\n",
    "# bottom 5 rows of dataset"
   ]
  },
  {
   "cell_type": "code",
   "execution_count": null,
   "id": "d3f8da4e",
   "metadata": {},
   "outputs": [],
   "source": [
    "data.info()"
   ]
  },
  {
   "cell_type": "code",
   "execution_count": null,
   "id": "8ae69dd4",
   "metadata": {},
   "outputs": [],
   "source": [
    "data.describe(include=\"all\")\n",
    "# overall statistics"
   ]
  },
  {
   "cell_type": "code",
   "execution_count": null,
   "id": "a552699c",
   "metadata": {},
   "outputs": [],
   "source": [
    "data.isnull().sum().sum()\n",
    "# checking for null values"
   ]
  },
  {
   "cell_type": "code",
   "execution_count": null,
   "id": "3f5dd86d",
   "metadata": {},
   "outputs": [],
   "source": [
    "data.duplicated().any()\n",
    "# checking for null values"
   ]
  },
  {
   "cell_type": "markdown",
   "id": "a7bc097d",
   "metadata": {},
   "source": [
    "Analysing crops column"
   ]
  },
  {
   "cell_type": "code",
   "execution_count": null,
   "id": "72183e9b",
   "metadata": {
    "scrolled": true
   },
   "outputs": [],
   "source": [
    "data[\"Crop\"].nunique()"
   ]
  },
  {
   "cell_type": "code",
   "execution_count": null,
   "id": "7384ec26",
   "metadata": {},
   "outputs": [],
   "source": [
    "data[\"Crop\"].unique()"
   ]
  },
  {
   "cell_type": "code",
   "execution_count": null,
   "id": "0970037a",
   "metadata": {},
   "outputs": [],
   "source": [
    "data[\"Crop\"].value_counts()"
   ]
  },
  {
   "cell_type": "markdown",
   "id": "045f201f",
   "metadata": {},
   "source": [
    "Analysing state column"
   ]
  },
  {
   "cell_type": "code",
   "execution_count": null,
   "id": "c08cc9cc",
   "metadata": {},
   "outputs": [],
   "source": [
    "data[\"State\"].nunique()"
   ]
  },
  {
   "cell_type": "code",
   "execution_count": null,
   "id": "9d995f96",
   "metadata": {},
   "outputs": [],
   "source": [
    "data[\"State\"].unique()"
   ]
  },
  {
   "cell_type": "code",
   "execution_count": null,
   "id": "bdd2263c",
   "metadata": {},
   "outputs": [],
   "source": [
    "data[\"State\"].value_counts()"
   ]
  },
  {
   "cell_type": "markdown",
   "id": "66bd116e",
   "metadata": {},
   "source": [
    "Cost of production and yeild state wise"
   ]
  },
  {
   "cell_type": "code",
   "execution_count": null,
   "id": "bbf6620c",
   "metadata": {},
   "outputs": [],
   "source": [
    "state_crop_yield = data.groupby(['State'])\n",
    "index = list(state_crop_yield.indices.keys())\n",
    "state_crop_yield.sum()[['Cost of Production (`/Quintal) C2','Yield (Quintal/ Hectare) ']].plot(kind='bar',figsize=(7,7))"
   ]
  },
  {
   "cell_type": "markdown",
   "id": "8c322ce7",
   "metadata": {},
   "source": [
    "Cost of production and yeild crop wise"
   ]
  },
  {
   "cell_type": "code",
   "execution_count": null,
   "id": "36999c03",
   "metadata": {},
   "outputs": [],
   "source": [
    "state_crop_yield = data.groupby(['Crop'])\n",
    "index = list(state_crop_yield.indices.keys())\n",
    "state_crop_yield.sum()[['Cost of Production (`/Quintal) C2', 'Yield (Quintal/ Hectare) ']].plot(kind='bar',figsize=(7,7))"
   ]
  },
  {
   "cell_type": "markdown",
   "id": "cced4973",
   "metadata": {},
   "source": [
    "Cost of cultivation crop wise"
   ]
  },
  {
   "cell_type": "code",
   "execution_count": null,
   "id": "e22a1dd7",
   "metadata": {},
   "outputs": [],
   "source": [
    "df = data[[\"Crop\",\"Cost of Cultivation (`/Hectare) A2+FL\",\"Cost of Cultivation (`/Hectare) C2\"]].copy()\n",
    "df = df.groupby('Crop')[[\"Cost of Cultivation (`/Hectare) A2+FL\",\"Cost of Cultivation (`/Hectare) C2\"]].mean().reset_index()\n",
    "fig = df.plot(kind='bar',x='Crop',y=[\"Cost of Cultivation (`/Hectare) A2+FL\",\"Cost of Cultivation (`/Hectare) C2\"])\n",
    "fig.plot()"
   ]
  },
  {
   "cell_type": "code",
   "execution_count": null,
   "id": "4b9ea87a",
   "metadata": {},
   "outputs": [],
   "source": [
    "print('Cost of Cultivation (`/Hectare) Distributions')\n",
    "sns.barplot(data=data[[\"Cost of Cultivation (`/Hectare) A2+FL\", \"Cost of Cultivation (`/Hectare) C2\"]])\n",
    "plt.xticks(rotation=30)\n",
    "plt.show()"
   ]
  },
  {
   "cell_type": "markdown",
   "id": "890ca464",
   "metadata": {},
   "source": [
    "Cost of cultivation state wise"
   ]
  },
  {
   "cell_type": "code",
   "execution_count": null,
   "id": "faf6a9d9",
   "metadata": {},
   "outputs": [],
   "source": [
    "df = data[[\"State\",\"Cost of Cultivation (`/Hectare) A2+FL\",\"Cost of Cultivation (`/Hectare) C2\"]].copy()\n",
    "df = df.groupby('State')[[\"Cost of Cultivation (`/Hectare) A2+FL\",\"Cost of Cultivation (`/Hectare) C2\"]].mean().reset_index()\n",
    "fig = df.plot(kind='bar',x='State',y=[\"Cost of Cultivation (`/Hectare) A2+FL\",\"Cost of Cultivation (`/Hectare) C2\"])\n",
    "fig.plot()"
   ]
  },
  {
   "cell_type": "markdown",
   "id": "95955d16",
   "metadata": {},
   "source": [
    "# Analysis of Dataset 2"
   ]
  },
  {
   "cell_type": "code",
   "execution_count": null,
   "id": "34a7d208",
   "metadata": {},
   "outputs": [],
   "source": [
    "data2 = pd.read_csv(\"datafile (2).csv\")\n",
    "data2"
   ]
  },
  {
   "cell_type": "code",
   "execution_count": null,
   "id": "c3b392c1",
   "metadata": {},
   "outputs": [],
   "source": [
    "data2.head(10)"
   ]
  },
  {
   "cell_type": "code",
   "execution_count": null,
   "id": "613a06c6",
   "metadata": {},
   "outputs": [],
   "source": [
    "data2.tail(10)"
   ]
  },
  {
   "cell_type": "code",
   "execution_count": null,
   "id": "3d5ad144",
   "metadata": {},
   "outputs": [],
   "source": [
    "data2.info()"
   ]
  },
  {
   "cell_type": "code",
   "execution_count": null,
   "id": "cd40eb86",
   "metadata": {},
   "outputs": [],
   "source": [
    "data2.describe(include=\"all\")"
   ]
  },
  {
   "cell_type": "code",
   "execution_count": null,
   "id": "d88ec7e5",
   "metadata": {},
   "outputs": [],
   "source": [
    "data2.isnull().sum().sum()"
   ]
  },
  {
   "cell_type": "code",
   "execution_count": null,
   "id": "1d79329e",
   "metadata": {},
   "outputs": [],
   "source": [
    "data2.duplicated().any()"
   ]
  },
  {
   "cell_type": "code",
   "execution_count": null,
   "id": "e613c7fe",
   "metadata": {},
   "outputs": [],
   "source": [
    "data2.columns"
   ]
  },
  {
   "cell_type": "code",
   "execution_count": null,
   "id": "b7c469f8",
   "metadata": {},
   "outputs": [],
   "source": [
    "data2[\"Crop             \"].nunique()"
   ]
  },
  {
   "cell_type": "code",
   "execution_count": null,
   "id": "9e97446f",
   "metadata": {},
   "outputs": [],
   "source": [
    "df = data2[[\"Crop             \",\"Production 2006-07\",\"Production 2007-08\",\"Production 2008-09\",\"Production 2009-10\",\"Production 2010-11\"]].copy().head(8)\n",
    "fig = df.drop(0).plot(kind='barh',x='Crop             ', y=[\"Production 2006-07\",\"Production 2007-08\",\"Production 2008-09\",\"Production 2009-10\",\"Production 2010-11\"],figsize=(7,7))"
   ]
  },
  {
   "cell_type": "code",
   "execution_count": null,
   "id": "2d9acaf5",
   "metadata": {},
   "outputs": [],
   "source": [
    "df = data2[[\"Crop             \",\"Area 2006-07\",\"Area 2007-08\",\"Area 2008-09\",\"Area 2009-10\",\"Area 2010-11\"]].copy().head(8)\n",
    "df.drop(0).plot.barh(x='Crop             ', y=[\"Area 2006-07\",\"Area 2007-08\",\"Area 2008-09\",\"Area 2009-10\",\"Area 2010-11\"],figsize=(7,7))"
   ]
  },
  {
   "cell_type": "code",
   "execution_count": null,
   "id": "015ff235",
   "metadata": {},
   "outputs": [],
   "source": [
    "mean_area = []\n",
    "for i in range(data2.shape[0]):\n",
    "    mean_area.append((data2.iloc[i,6]+data2.iloc[i,7]+data2.iloc[i,8]+data2.iloc[i,9]+data2.iloc[i,10])/5)\n",
    "    \n",
    "data2['mean_area'] = pd.Series(mean_area)\n",
    "sns.boxplot(data=data2['mean_area'])\n",
    "plt.title('Distribution of mean area for Crops')\n",
    "plt.show()"
   ]
  }
 ],
 "metadata": {
  "kernelspec": {
   "display_name": "Python 3 (ipykernel)",
   "language": "python",
   "name": "python3"
  },
  "language_info": {
   "codemirror_mode": {
    "name": "ipython",
    "version": 3
   },
   "file_extension": ".py",
   "mimetype": "text/x-python",
   "name": "python",
   "nbconvert_exporter": "python",
   "pygments_lexer": "ipython3",
   "version": "3.10.2"
  }
 },
 "nbformat": 4,
 "nbformat_minor": 5
}
